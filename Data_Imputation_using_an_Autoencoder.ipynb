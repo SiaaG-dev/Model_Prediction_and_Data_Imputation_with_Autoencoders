{
  "cells": [
    {
      "cell_type": "markdown",
      "metadata": {
        "id": "OhtOdxzd1ppr"
      },
      "source": [
        "# Data Imputation using an Autoencoder\n",
        "\n",
        "\n",
        "Build and train an autoencoder to impute (or \"fill in\") missing data.\n",
        "\n",
        "We will be using the\n",
        "Adult Data Set provided by the UCI Machine Learning Repository [1], available\n",
        "at https://archive.ics.uci.edu/ml/datasets/adult.\n",
        "The data set contains census record files of adults, including their\n",
        "age, martial status, the type of work they do, and other features.\n",
        "\n",
        "Normally, people use this data set to build a supervised classification\n",
        "model to classify whether a person is a high income earner.\n",
        "We will not use the dataset for this original intended purpose.\n",
        "\n",
        "Instead, we will perform the task of imputing (or \"filling in\") missing values in the dataset. For example,\n",
        "we may be missing one person's martial status, and another person's age, and\n",
        "a third person's level of education. Our model will predict the missing features\n",
        "based on the information that we do have about each person.\n",
        "\n",
        "We will use a variation of a denoising autoencoder to solve this data imputation\n",
        "problem. Our autoencoder will be trained using inputs that have one categorical feature artificially\n",
        "removed, and the goal of the autoencoder is to correctly reconstruct all features,\n",
        "including the one removed from the input.\n",
        "\n",
        "\n",
        "\n",
        "1. Clean and process continuous and categorical data for machine learning.\n",
        "2. Implement an autoencoder that takes continuous and categorical (one-hot) inputs.\n",
        "3. Tune the hyperparameters of an autoencoder.\n",
        "4. Use baseline models to help interpret model performance.\n",
        "\n",
        "[1] Dua, D. and Karra Taniskidou, E. (2017). UCI Machine Learning Repository [http://archive.ics.uci.edu/ml]. Irvine, CA: University of California, School of Information and Computer Science.\n",
        "\n",
        "\n"
      ]
    },
    {
      "cell_type": "markdown",
      "metadata": {
        "id": "zbnrp2ig1pps"
      },
      "source": [
        "## Colab Link\n",
        "\n",
        "Include a link to your Colab file here:\n",
        "\n",
        "Colab Link:\n",
        "https://colab.research.google.com/drive/11rhC4vsBNZwGhmulqMexOokXQlOCcM0K?usp=sharing"
      ]
    },
    {
      "cell_type": "code",
      "execution_count": null,
      "metadata": {
        "collapsed": true,
        "id": "z3p8N43E1ppt",
        "jupyter": {
          "outputs_hidden": true
        }
      },
      "outputs": [],
      "source": [
        "import csv\n",
        "import numpy as np\n",
        "import random\n",
        "import torch\n",
        "import torch.utils.data\n",
        "import math"
      ]
    },
    {
      "cell_type": "markdown",
      "metadata": {
        "id": "8ROwtHcz1ppx"
      },
      "source": [
        "## Part 0\n",
        "\n",
        "We will be using a package called `pandas` for this assignment.\n",
        "\n",
        "If you are using Colab, `pandas` should already be available.\n",
        "If you are using your own computer,\n",
        "installation instructions for `pandas` are available here:\n",
        "https://pandas.pydata.org/pandas-docs/stable/install.html"
      ]
    },
    {
      "cell_type": "code",
      "execution_count": null,
      "metadata": {
        "collapsed": true,
        "id": "IXQ7BP151ppz",
        "jupyter": {
          "outputs_hidden": true
        }
      },
      "outputs": [],
      "source": [
        "import pandas as pd"
      ]
    },
    {
      "cell_type": "markdown",
      "metadata": {
        "id": "hqXihb4Q1pp2"
      },
      "source": [
        "# Part 1. Data Cleaning [15 pt]\n",
        "\n",
        "The adult.data file is available at `https://archive.ics.uci.edu/ml/machine-learning-databases/adult/adult.data`\n",
        "\n",
        "The function `pd.read_csv` loads the adult.data file into a pandas dataframe.\n",
        "You can read about the pandas documentation for `pd.read_csv` at\n",
        "https://pandas.pydata.org/pandas-docs/stable/reference/api/pandas.read_csv.html"
      ]
    },
    {
      "cell_type": "code",
      "execution_count": null,
      "metadata": {
        "colab": {
          "base_uri": "https://localhost:8080/"
        },
        "id": "EOMItFKn1pp3",
        "jupyter": {
          "outputs_hidden": true
        },
        "outputId": "01fd502e-be0a-424b-9340-7db240a081ea"
      },
      "outputs": [
        {
          "output_type": "stream",
          "name": "stderr",
          "text": [
            "<ipython-input-3-037957db2593>:3: ParserWarning: Length of header or names does not match length of data. This leads to a loss of data with index_col=False.\n",
            "  df = pd.read_csv(\n"
          ]
        }
      ],
      "source": [
        "header = ['age', 'work', 'fnlwgt', 'edu', 'yredu', 'marriage', 'occupation',\n",
        " 'relationship', 'race', 'sex', 'capgain', 'caploss', 'workhr', 'country']\n",
        "df = pd.read_csv(\n",
        "    \"https://archive.ics.uci.edu/ml/machine-learning-databases/adult/adult.data\",\n",
        "    names=header,\n",
        "    index_col=False)"
      ]
    },
    {
      "cell_type": "code",
      "execution_count": null,
      "metadata": {
        "colab": {
          "base_uri": "https://localhost:8080/"
        },
        "id": "62Ot405q1pp5",
        "outputId": "7b5e8363-4290-4318-cf2e-12bb97f16966",
        "scrolled": true
      },
      "outputs": [
        {
          "output_type": "execute_result",
          "data": {
            "text/plain": [
              "(32561, 14)"
            ]
          },
          "metadata": {},
          "execution_count": 5
        }
      ],
      "source": [
        "df.shape # there are 32561 rows (records) in the data frame, and 14 columns (features)"
      ]
    },
    {
      "cell_type": "markdown",
      "metadata": {
        "id": "Tr7YG-QY1pp8"
      },
      "source": [
        "### Part (a) Continuous Features [3 pt]\n",
        "\n",
        "For each of the columns `[\"age\", \"yredu\", \"capgain\", \"caploss\", \"workhr\"]`, report the minimum, maximum, and average value across the dataset.\n",
        "\n",
        "Then, normalize each of the features `[\"age\", \"yredu\", \"capgain\", \"caploss\", \"workhr\"]`\n",
        "so that their values are always between 0 and 1.\n",
        "Make sure that you are actually modifying the dataframe `df`.\n",
        "\n",
        "Like numpy arrays and torch tensors,\n",
        "pandas data frames can be sliced. For example, we can\n",
        "display the first 3 rows of the data frame (3 records) below."
      ]
    },
    {
      "cell_type": "code",
      "execution_count": null,
      "metadata": {
        "colab": {
          "base_uri": "https://localhost:8080/",
          "height": 143
        },
        "id": "9evSLsSa1pp9",
        "outputId": "c611a3c4-7125-423d-e8fd-5bcab7b47a21"
      },
      "outputs": [
        {
          "output_type": "execute_result",
          "data": {
            "text/plain": [
              "   age               work  fnlwgt         edu  yredu             marriage  \\\n",
              "0   39          State-gov   77516   Bachelors     13        Never-married   \n",
              "1   50   Self-emp-not-inc   83311   Bachelors     13   Married-civ-spouse   \n",
              "2   38            Private  215646     HS-grad      9             Divorced   \n",
              "\n",
              "           occupation    relationship    race    sex  capgain  caploss  \\\n",
              "0        Adm-clerical   Not-in-family   White   Male     2174        0   \n",
              "1     Exec-managerial         Husband   White   Male        0        0   \n",
              "2   Handlers-cleaners   Not-in-family   White   Male        0        0   \n",
              "\n",
              "   workhr         country  \n",
              "0      40   United-States  \n",
              "1      13   United-States  \n",
              "2      40   United-States  "
            ],
            "text/html": [
              "\n",
              "  <div id=\"df-ba135f98-d930-4852-af49-85cfe3938418\" class=\"colab-df-container\">\n",
              "    <div>\n",
              "<style scoped>\n",
              "    .dataframe tbody tr th:only-of-type {\n",
              "        vertical-align: middle;\n",
              "    }\n",
              "\n",
              "    .dataframe tbody tr th {\n",
              "        vertical-align: top;\n",
              "    }\n",
              "\n",
              "    .dataframe thead th {\n",
              "        text-align: right;\n",
              "    }\n",
              "</style>\n",
              "<table border=\"1\" class=\"dataframe\">\n",
              "  <thead>\n",
              "    <tr style=\"text-align: right;\">\n",
              "      <th></th>\n",
              "      <th>age</th>\n",
              "      <th>work</th>\n",
              "      <th>fnlwgt</th>\n",
              "      <th>edu</th>\n",
              "      <th>yredu</th>\n",
              "      <th>marriage</th>\n",
              "      <th>occupation</th>\n",
              "      <th>relationship</th>\n",
              "      <th>race</th>\n",
              "      <th>sex</th>\n",
              "      <th>capgain</th>\n",
              "      <th>caploss</th>\n",
              "      <th>workhr</th>\n",
              "      <th>country</th>\n",
              "    </tr>\n",
              "  </thead>\n",
              "  <tbody>\n",
              "    <tr>\n",
              "      <th>0</th>\n",
              "      <td>39</td>\n",
              "      <td>State-gov</td>\n",
              "      <td>77516</td>\n",
              "      <td>Bachelors</td>\n",
              "      <td>13</td>\n",
              "      <td>Never-married</td>\n",
              "      <td>Adm-clerical</td>\n",
              "      <td>Not-in-family</td>\n",
              "      <td>White</td>\n",
              "      <td>Male</td>\n",
              "      <td>2174</td>\n",
              "      <td>0</td>\n",
              "      <td>40</td>\n",
              "      <td>United-States</td>\n",
              "    </tr>\n",
              "    <tr>\n",
              "      <th>1</th>\n",
              "      <td>50</td>\n",
              "      <td>Self-emp-not-inc</td>\n",
              "      <td>83311</td>\n",
              "      <td>Bachelors</td>\n",
              "      <td>13</td>\n",
              "      <td>Married-civ-spouse</td>\n",
              "      <td>Exec-managerial</td>\n",
              "      <td>Husband</td>\n",
              "      <td>White</td>\n",
              "      <td>Male</td>\n",
              "      <td>0</td>\n",
              "      <td>0</td>\n",
              "      <td>13</td>\n",
              "      <td>United-States</td>\n",
              "    </tr>\n",
              "    <tr>\n",
              "      <th>2</th>\n",
              "      <td>38</td>\n",
              "      <td>Private</td>\n",
              "      <td>215646</td>\n",
              "      <td>HS-grad</td>\n",
              "      <td>9</td>\n",
              "      <td>Divorced</td>\n",
              "      <td>Handlers-cleaners</td>\n",
              "      <td>Not-in-family</td>\n",
              "      <td>White</td>\n",
              "      <td>Male</td>\n",
              "      <td>0</td>\n",
              "      <td>0</td>\n",
              "      <td>40</td>\n",
              "      <td>United-States</td>\n",
              "    </tr>\n",
              "  </tbody>\n",
              "</table>\n",
              "</div>\n",
              "    <div class=\"colab-df-buttons\">\n",
              "\n",
              "  <div class=\"colab-df-container\">\n",
              "    <button class=\"colab-df-convert\" onclick=\"convertToInteractive('df-ba135f98-d930-4852-af49-85cfe3938418')\"\n",
              "            title=\"Convert this dataframe to an interactive table.\"\n",
              "            style=\"display:none;\">\n",
              "\n",
              "  <svg xmlns=\"http://www.w3.org/2000/svg\" height=\"24px\" viewBox=\"0 -960 960 960\">\n",
              "    <path d=\"M120-120v-720h720v720H120Zm60-500h600v-160H180v160Zm220 220h160v-160H400v160Zm0 220h160v-160H400v160ZM180-400h160v-160H180v160Zm440 0h160v-160H620v160ZM180-180h160v-160H180v160Zm440 0h160v-160H620v160Z\"/>\n",
              "  </svg>\n",
              "    </button>\n",
              "\n",
              "  <style>\n",
              "    .colab-df-container {\n",
              "      display:flex;\n",
              "      gap: 12px;\n",
              "    }\n",
              "\n",
              "    .colab-df-convert {\n",
              "      background-color: #E8F0FE;\n",
              "      border: none;\n",
              "      border-radius: 50%;\n",
              "      cursor: pointer;\n",
              "      display: none;\n",
              "      fill: #1967D2;\n",
              "      height: 32px;\n",
              "      padding: 0 0 0 0;\n",
              "      width: 32px;\n",
              "    }\n",
              "\n",
              "    .colab-df-convert:hover {\n",
              "      background-color: #E2EBFA;\n",
              "      box-shadow: 0px 1px 2px rgba(60, 64, 67, 0.3), 0px 1px 3px 1px rgba(60, 64, 67, 0.15);\n",
              "      fill: #174EA6;\n",
              "    }\n",
              "\n",
              "    .colab-df-buttons div {\n",
              "      margin-bottom: 4px;\n",
              "    }\n",
              "\n",
              "    [theme=dark] .colab-df-convert {\n",
              "      background-color: #3B4455;\n",
              "      fill: #D2E3FC;\n",
              "    }\n",
              "\n",
              "    [theme=dark] .colab-df-convert:hover {\n",
              "      background-color: #434B5C;\n",
              "      box-shadow: 0px 1px 3px 1px rgba(0, 0, 0, 0.15);\n",
              "      filter: drop-shadow(0px 1px 2px rgba(0, 0, 0, 0.3));\n",
              "      fill: #FFFFFF;\n",
              "    }\n",
              "  </style>\n",
              "\n",
              "    <script>\n",
              "      const buttonEl =\n",
              "        document.querySelector('#df-ba135f98-d930-4852-af49-85cfe3938418 button.colab-df-convert');\n",
              "      buttonEl.style.display =\n",
              "        google.colab.kernel.accessAllowed ? 'block' : 'none';\n",
              "\n",
              "      async function convertToInteractive(key) {\n",
              "        const element = document.querySelector('#df-ba135f98-d930-4852-af49-85cfe3938418');\n",
              "        const dataTable =\n",
              "          await google.colab.kernel.invokeFunction('convertToInteractive',\n",
              "                                                    [key], {});\n",
              "        if (!dataTable) return;\n",
              "\n",
              "        const docLinkHtml = 'Like what you see? Visit the ' +\n",
              "          '<a target=\"_blank\" href=https://colab.research.google.com/notebooks/data_table.ipynb>data table notebook</a>'\n",
              "          + ' to learn more about interactive tables.';\n",
              "        element.innerHTML = '';\n",
              "        dataTable['output_type'] = 'display_data';\n",
              "        await google.colab.output.renderOutput(dataTable, element);\n",
              "        const docLink = document.createElement('div');\n",
              "        docLink.innerHTML = docLinkHtml;\n",
              "        element.appendChild(docLink);\n",
              "      }\n",
              "    </script>\n",
              "  </div>\n",
              "\n",
              "\n",
              "<div id=\"df-65a32618-0f2e-4b1b-82a5-ab60a41693d6\">\n",
              "  <button class=\"colab-df-quickchart\" onclick=\"quickchart('df-65a32618-0f2e-4b1b-82a5-ab60a41693d6')\"\n",
              "            title=\"Suggest charts\"\n",
              "            style=\"display:none;\">\n",
              "\n",
              "<svg xmlns=\"http://www.w3.org/2000/svg\" height=\"24px\"viewBox=\"0 0 24 24\"\n",
              "     width=\"24px\">\n",
              "    <g>\n",
              "        <path d=\"M19 3H5c-1.1 0-2 .9-2 2v14c0 1.1.9 2 2 2h14c1.1 0 2-.9 2-2V5c0-1.1-.9-2-2-2zM9 17H7v-7h2v7zm4 0h-2V7h2v10zm4 0h-2v-4h2v4z\"/>\n",
              "    </g>\n",
              "</svg>\n",
              "  </button>\n",
              "\n",
              "<style>\n",
              "  .colab-df-quickchart {\n",
              "      --bg-color: #E8F0FE;\n",
              "      --fill-color: #1967D2;\n",
              "      --hover-bg-color: #E2EBFA;\n",
              "      --hover-fill-color: #174EA6;\n",
              "      --disabled-fill-color: #AAA;\n",
              "      --disabled-bg-color: #DDD;\n",
              "  }\n",
              "\n",
              "  [theme=dark] .colab-df-quickchart {\n",
              "      --bg-color: #3B4455;\n",
              "      --fill-color: #D2E3FC;\n",
              "      --hover-bg-color: #434B5C;\n",
              "      --hover-fill-color: #FFFFFF;\n",
              "      --disabled-bg-color: #3B4455;\n",
              "      --disabled-fill-color: #666;\n",
              "  }\n",
              "\n",
              "  .colab-df-quickchart {\n",
              "    background-color: var(--bg-color);\n",
              "    border: none;\n",
              "    border-radius: 50%;\n",
              "    cursor: pointer;\n",
              "    display: none;\n",
              "    fill: var(--fill-color);\n",
              "    height: 32px;\n",
              "    padding: 0;\n",
              "    width: 32px;\n",
              "  }\n",
              "\n",
              "  .colab-df-quickchart:hover {\n",
              "    background-color: var(--hover-bg-color);\n",
              "    box-shadow: 0 1px 2px rgba(60, 64, 67, 0.3), 0 1px 3px 1px rgba(60, 64, 67, 0.15);\n",
              "    fill: var(--button-hover-fill-color);\n",
              "  }\n",
              "\n",
              "  .colab-df-quickchart-complete:disabled,\n",
              "  .colab-df-quickchart-complete:disabled:hover {\n",
              "    background-color: var(--disabled-bg-color);\n",
              "    fill: var(--disabled-fill-color);\n",
              "    box-shadow: none;\n",
              "  }\n",
              "\n",
              "  .colab-df-spinner {\n",
              "    border: 2px solid var(--fill-color);\n",
              "    border-color: transparent;\n",
              "    border-bottom-color: var(--fill-color);\n",
              "    animation:\n",
              "      spin 1s steps(1) infinite;\n",
              "  }\n",
              "\n",
              "  @keyframes spin {\n",
              "    0% {\n",
              "      border-color: transparent;\n",
              "      border-bottom-color: var(--fill-color);\n",
              "      border-left-color: var(--fill-color);\n",
              "    }\n",
              "    20% {\n",
              "      border-color: transparent;\n",
              "      border-left-color: var(--fill-color);\n",
              "      border-top-color: var(--fill-color);\n",
              "    }\n",
              "    30% {\n",
              "      border-color: transparent;\n",
              "      border-left-color: var(--fill-color);\n",
              "      border-top-color: var(--fill-color);\n",
              "      border-right-color: var(--fill-color);\n",
              "    }\n",
              "    40% {\n",
              "      border-color: transparent;\n",
              "      border-right-color: var(--fill-color);\n",
              "      border-top-color: var(--fill-color);\n",
              "    }\n",
              "    60% {\n",
              "      border-color: transparent;\n",
              "      border-right-color: var(--fill-color);\n",
              "    }\n",
              "    80% {\n",
              "      border-color: transparent;\n",
              "      border-right-color: var(--fill-color);\n",
              "      border-bottom-color: var(--fill-color);\n",
              "    }\n",
              "    90% {\n",
              "      border-color: transparent;\n",
              "      border-bottom-color: var(--fill-color);\n",
              "    }\n",
              "  }\n",
              "</style>\n",
              "\n",
              "  <script>\n",
              "    async function quickchart(key) {\n",
              "      const quickchartButtonEl =\n",
              "        document.querySelector('#' + key + ' button');\n",
              "      quickchartButtonEl.disabled = true;  // To prevent multiple clicks.\n",
              "      quickchartButtonEl.classList.add('colab-df-spinner');\n",
              "      try {\n",
              "        const charts = await google.colab.kernel.invokeFunction(\n",
              "            'suggestCharts', [key], {});\n",
              "      } catch (error) {\n",
              "        console.error('Error during call to suggestCharts:', error);\n",
              "      }\n",
              "      quickchartButtonEl.classList.remove('colab-df-spinner');\n",
              "      quickchartButtonEl.classList.add('colab-df-quickchart-complete');\n",
              "    }\n",
              "    (() => {\n",
              "      let quickchartButtonEl =\n",
              "        document.querySelector('#df-65a32618-0f2e-4b1b-82a5-ab60a41693d6 button');\n",
              "      quickchartButtonEl.style.display =\n",
              "        google.colab.kernel.accessAllowed ? 'block' : 'none';\n",
              "    })();\n",
              "  </script>\n",
              "</div>\n",
              "\n",
              "    </div>\n",
              "  </div>\n"
            ],
            "application/vnd.google.colaboratory.intrinsic+json": {
              "type": "dataframe",
              "summary": "{\n  \"name\": \"df[:3] # show the first 3 records\",\n  \"rows\": 3,\n  \"fields\": [\n    {\n      \"column\": \"age\",\n      \"properties\": {\n        \"dtype\": \"number\",\n        \"std\": 6,\n        \"min\": 38,\n        \"max\": 50,\n        \"num_unique_values\": 3,\n        \"samples\": [\n          39,\n          50,\n          38\n        ],\n        \"semantic_type\": \"\",\n        \"description\": \"\"\n      }\n    },\n    {\n      \"column\": \"work\",\n      \"properties\": {\n        \"dtype\": \"string\",\n        \"num_unique_values\": 3,\n        \"samples\": [\n          \" State-gov\",\n          \" Self-emp-not-inc\",\n          \" Private\"\n        ],\n        \"semantic_type\": \"\",\n        \"description\": \"\"\n      }\n    },\n    {\n      \"column\": \"fnlwgt\",\n      \"properties\": {\n        \"dtype\": \"number\",\n        \"std\": 78130,\n        \"min\": 77516,\n        \"max\": 215646,\n        \"num_unique_values\": 3,\n        \"samples\": [\n          77516,\n          83311,\n          215646\n        ],\n        \"semantic_type\": \"\",\n        \"description\": \"\"\n      }\n    },\n    {\n      \"column\": \"edu\",\n      \"properties\": {\n        \"dtype\": \"string\",\n        \"num_unique_values\": 2,\n        \"samples\": [\n          \" HS-grad\",\n          \" Bachelors\"\n        ],\n        \"semantic_type\": \"\",\n        \"description\": \"\"\n      }\n    },\n    {\n      \"column\": \"yredu\",\n      \"properties\": {\n        \"dtype\": \"number\",\n        \"std\": 2,\n        \"min\": 9,\n        \"max\": 13,\n        \"num_unique_values\": 2,\n        \"samples\": [\n          9,\n          13\n        ],\n        \"semantic_type\": \"\",\n        \"description\": \"\"\n      }\n    },\n    {\n      \"column\": \"marriage\",\n      \"properties\": {\n        \"dtype\": \"string\",\n        \"num_unique_values\": 3,\n        \"samples\": [\n          \" Never-married\",\n          \" Married-civ-spouse\"\n        ],\n        \"semantic_type\": \"\",\n        \"description\": \"\"\n      }\n    },\n    {\n      \"column\": \"occupation\",\n      \"properties\": {\n        \"dtype\": \"string\",\n        \"num_unique_values\": 3,\n        \"samples\": [\n          \" Adm-clerical\",\n          \" Exec-managerial\"\n        ],\n        \"semantic_type\": \"\",\n        \"description\": \"\"\n      }\n    },\n    {\n      \"column\": \"relationship\",\n      \"properties\": {\n        \"dtype\": \"string\",\n        \"num_unique_values\": 2,\n        \"samples\": [\n          \" Husband\",\n          \" Not-in-family\"\n        ],\n        \"semantic_type\": \"\",\n        \"description\": \"\"\n      }\n    },\n    {\n      \"column\": \"race\",\n      \"properties\": {\n        \"dtype\": \"category\",\n        \"num_unique_values\": 1,\n        \"samples\": [\n          \" White\"\n        ],\n        \"semantic_type\": \"\",\n        \"description\": \"\"\n      }\n    },\n    {\n      \"column\": \"sex\",\n      \"properties\": {\n        \"dtype\": \"category\",\n        \"num_unique_values\": 1,\n        \"samples\": [\n          \" Male\"\n        ],\n        \"semantic_type\": \"\",\n        \"description\": \"\"\n      }\n    },\n    {\n      \"column\": \"capgain\",\n      \"properties\": {\n        \"dtype\": \"number\",\n        \"std\": 1255,\n        \"min\": 0,\n        \"max\": 2174,\n        \"num_unique_values\": 2,\n        \"samples\": [\n          0\n        ],\n        \"semantic_type\": \"\",\n        \"description\": \"\"\n      }\n    },\n    {\n      \"column\": \"caploss\",\n      \"properties\": {\n        \"dtype\": \"number\",\n        \"std\": 0,\n        \"min\": 0,\n        \"max\": 0,\n        \"num_unique_values\": 1,\n        \"samples\": [\n          0\n        ],\n        \"semantic_type\": \"\",\n        \"description\": \"\"\n      }\n    },\n    {\n      \"column\": \"workhr\",\n      \"properties\": {\n        \"dtype\": \"number\",\n        \"std\": 15,\n        \"min\": 13,\n        \"max\": 40,\n        \"num_unique_values\": 2,\n        \"samples\": [\n          13\n        ],\n        \"semantic_type\": \"\",\n        \"description\": \"\"\n      }\n    },\n    {\n      \"column\": \"country\",\n      \"properties\": {\n        \"dtype\": \"category\",\n        \"num_unique_values\": 1,\n        \"samples\": [\n          \" United-States\"\n        ],\n        \"semantic_type\": \"\",\n        \"description\": \"\"\n      }\n    }\n  ]\n}"
            }
          },
          "metadata": {},
          "execution_count": 4
        }
      ],
      "source": [
        "df[:3] # show the first 3 records"
      ]
    },
    {
      "cell_type": "markdown",
      "metadata": {
        "id": "gBOojI6W1pqA"
      },
      "source": [
        "Alternatively, we can slice based on column names,\n",
        "for example `df[\"race\"]`, `df[\"hr\"]`, or even index multiple columns\n",
        "like below."
      ]
    },
    {
      "cell_type": "code",
      "execution_count": null,
      "metadata": {
        "colab": {
          "base_uri": "https://localhost:8080/",
          "height": 143
        },
        "id": "4v6pp73A1pqB",
        "outputId": "9700a3d1-31b1-4d9c-f6e0-74f4c4699fa5"
      },
      "outputs": [
        {
          "output_type": "execute_result",
          "data": {
            "text/plain": [
              "   age  yredu  capgain  caploss  workhr\n",
              "0   39     13     2174        0      40\n",
              "1   50     13        0        0      13\n",
              "2   38      9        0        0      40"
            ],
            "text/html": [
              "\n",
              "  <div id=\"df-842280d0-2b09-4d88-b2a7-6a376ecbf446\" class=\"colab-df-container\">\n",
              "    <div>\n",
              "<style scoped>\n",
              "    .dataframe tbody tr th:only-of-type {\n",
              "        vertical-align: middle;\n",
              "    }\n",
              "\n",
              "    .dataframe tbody tr th {\n",
              "        vertical-align: top;\n",
              "    }\n",
              "\n",
              "    .dataframe thead th {\n",
              "        text-align: right;\n",
              "    }\n",
              "</style>\n",
              "<table border=\"1\" class=\"dataframe\">\n",
              "  <thead>\n",
              "    <tr style=\"text-align: right;\">\n",
              "      <th></th>\n",
              "      <th>age</th>\n",
              "      <th>yredu</th>\n",
              "      <th>capgain</th>\n",
              "      <th>caploss</th>\n",
              "      <th>workhr</th>\n",
              "    </tr>\n",
              "  </thead>\n",
              "  <tbody>\n",
              "    <tr>\n",
              "      <th>0</th>\n",
              "      <td>39</td>\n",
              "      <td>13</td>\n",
              "      <td>2174</td>\n",
              "      <td>0</td>\n",
              "      <td>40</td>\n",
              "    </tr>\n",
              "    <tr>\n",
              "      <th>1</th>\n",
              "      <td>50</td>\n",
              "      <td>13</td>\n",
              "      <td>0</td>\n",
              "      <td>0</td>\n",
              "      <td>13</td>\n",
              "    </tr>\n",
              "    <tr>\n",
              "      <th>2</th>\n",
              "      <td>38</td>\n",
              "      <td>9</td>\n",
              "      <td>0</td>\n",
              "      <td>0</td>\n",
              "      <td>40</td>\n",
              "    </tr>\n",
              "  </tbody>\n",
              "</table>\n",
              "</div>\n",
              "    <div class=\"colab-df-buttons\">\n",
              "\n",
              "  <div class=\"colab-df-container\">\n",
              "    <button class=\"colab-df-convert\" onclick=\"convertToInteractive('df-842280d0-2b09-4d88-b2a7-6a376ecbf446')\"\n",
              "            title=\"Convert this dataframe to an interactive table.\"\n",
              "            style=\"display:none;\">\n",
              "\n",
              "  <svg xmlns=\"http://www.w3.org/2000/svg\" height=\"24px\" viewBox=\"0 -960 960 960\">\n",
              "    <path d=\"M120-120v-720h720v720H120Zm60-500h600v-160H180v160Zm220 220h160v-160H400v160Zm0 220h160v-160H400v160ZM180-400h160v-160H180v160Zm440 0h160v-160H620v160ZM180-180h160v-160H180v160Zm440 0h160v-160H620v160Z\"/>\n",
              "  </svg>\n",
              "    </button>\n",
              "\n",
              "  <style>\n",
              "    .colab-df-container {\n",
              "      display:flex;\n",
              "      gap: 12px;\n",
              "    }\n",
              "\n",
              "    .colab-df-convert {\n",
              "      background-color: #E8F0FE;\n",
              "      border: none;\n",
              "      border-radius: 50%;\n",
              "      cursor: pointer;\n",
              "      display: none;\n",
              "      fill: #1967D2;\n",
              "      height: 32px;\n",
              "      padding: 0 0 0 0;\n",
              "      width: 32px;\n",
              "    }\n",
              "\n",
              "    .colab-df-convert:hover {\n",
              "      background-color: #E2EBFA;\n",
              "      box-shadow: 0px 1px 2px rgba(60, 64, 67, 0.3), 0px 1px 3px 1px rgba(60, 64, 67, 0.15);\n",
              "      fill: #174EA6;\n",
              "    }\n",
              "\n",
              "    .colab-df-buttons div {\n",
              "      margin-bottom: 4px;\n",
              "    }\n",
              "\n",
              "    [theme=dark] .colab-df-convert {\n",
              "      background-color: #3B4455;\n",
              "      fill: #D2E3FC;\n",
              "    }\n",
              "\n",
              "    [theme=dark] .colab-df-convert:hover {\n",
              "      background-color: #434B5C;\n",
              "      box-shadow: 0px 1px 3px 1px rgba(0, 0, 0, 0.15);\n",
              "      filter: drop-shadow(0px 1px 2px rgba(0, 0, 0, 0.3));\n",
              "      fill: #FFFFFF;\n",
              "    }\n",
              "  </style>\n",
              "\n",
              "    <script>\n",
              "      const buttonEl =\n",
              "        document.querySelector('#df-842280d0-2b09-4d88-b2a7-6a376ecbf446 button.colab-df-convert');\n",
              "      buttonEl.style.display =\n",
              "        google.colab.kernel.accessAllowed ? 'block' : 'none';\n",
              "\n",
              "      async function convertToInteractive(key) {\n",
              "        const element = document.querySelector('#df-842280d0-2b09-4d88-b2a7-6a376ecbf446');\n",
              "        const dataTable =\n",
              "          await google.colab.kernel.invokeFunction('convertToInteractive',\n",
              "                                                    [key], {});\n",
              "        if (!dataTable) return;\n",
              "\n",
              "        const docLinkHtml = 'Like what you see? Visit the ' +\n",
              "          '<a target=\"_blank\" href=https://colab.research.google.com/notebooks/data_table.ipynb>data table notebook</a>'\n",
              "          + ' to learn more about interactive tables.';\n",
              "        element.innerHTML = '';\n",
              "        dataTable['output_type'] = 'display_data';\n",
              "        await google.colab.output.renderOutput(dataTable, element);\n",
              "        const docLink = document.createElement('div');\n",
              "        docLink.innerHTML = docLinkHtml;\n",
              "        element.appendChild(docLink);\n",
              "      }\n",
              "    </script>\n",
              "  </div>\n",
              "\n",
              "\n",
              "<div id=\"df-75dc03cc-d8b3-4682-b09e-e6d1f7fec550\">\n",
              "  <button class=\"colab-df-quickchart\" onclick=\"quickchart('df-75dc03cc-d8b3-4682-b09e-e6d1f7fec550')\"\n",
              "            title=\"Suggest charts\"\n",
              "            style=\"display:none;\">\n",
              "\n",
              "<svg xmlns=\"http://www.w3.org/2000/svg\" height=\"24px\"viewBox=\"0 0 24 24\"\n",
              "     width=\"24px\">\n",
              "    <g>\n",
              "        <path d=\"M19 3H5c-1.1 0-2 .9-2 2v14c0 1.1.9 2 2 2h14c1.1 0 2-.9 2-2V5c0-1.1-.9-2-2-2zM9 17H7v-7h2v7zm4 0h-2V7h2v10zm4 0h-2v-4h2v4z\"/>\n",
              "    </g>\n",
              "</svg>\n",
              "  </button>\n",
              "\n",
              "<style>\n",
              "  .colab-df-quickchart {\n",
              "      --bg-color: #E8F0FE;\n",
              "      --fill-color: #1967D2;\n",
              "      --hover-bg-color: #E2EBFA;\n",
              "      --hover-fill-color: #174EA6;\n",
              "      --disabled-fill-color: #AAA;\n",
              "      --disabled-bg-color: #DDD;\n",
              "  }\n",
              "\n",
              "  [theme=dark] .colab-df-quickchart {\n",
              "      --bg-color: #3B4455;\n",
              "      --fill-color: #D2E3FC;\n",
              "      --hover-bg-color: #434B5C;\n",
              "      --hover-fill-color: #FFFFFF;\n",
              "      --disabled-bg-color: #3B4455;\n",
              "      --disabled-fill-color: #666;\n",
              "  }\n",
              "\n",
              "  .colab-df-quickchart {\n",
              "    background-color: var(--bg-color);\n",
              "    border: none;\n",
              "    border-radius: 50%;\n",
              "    cursor: pointer;\n",
              "    display: none;\n",
              "    fill: var(--fill-color);\n",
              "    height: 32px;\n",
              "    padding: 0;\n",
              "    width: 32px;\n",
              "  }\n",
              "\n",
              "  .colab-df-quickchart:hover {\n",
              "    background-color: var(--hover-bg-color);\n",
              "    box-shadow: 0 1px 2px rgba(60, 64, 67, 0.3), 0 1px 3px 1px rgba(60, 64, 67, 0.15);\n",
              "    fill: var(--button-hover-fill-color);\n",
              "  }\n",
              "\n",
              "  .colab-df-quickchart-complete:disabled,\n",
              "  .colab-df-quickchart-complete:disabled:hover {\n",
              "    background-color: var(--disabled-bg-color);\n",
              "    fill: var(--disabled-fill-color);\n",
              "    box-shadow: none;\n",
              "  }\n",
              "\n",
              "  .colab-df-spinner {\n",
              "    border: 2px solid var(--fill-color);\n",
              "    border-color: transparent;\n",
              "    border-bottom-color: var(--fill-color);\n",
              "    animation:\n",
              "      spin 1s steps(1) infinite;\n",
              "  }\n",
              "\n",
              "  @keyframes spin {\n",
              "    0% {\n",
              "      border-color: transparent;\n",
              "      border-bottom-color: var(--fill-color);\n",
              "      border-left-color: var(--fill-color);\n",
              "    }\n",
              "    20% {\n",
              "      border-color: transparent;\n",
              "      border-left-color: var(--fill-color);\n",
              "      border-top-color: var(--fill-color);\n",
              "    }\n",
              "    30% {\n",
              "      border-color: transparent;\n",
              "      border-left-color: var(--fill-color);\n",
              "      border-top-color: var(--fill-color);\n",
              "      border-right-color: var(--fill-color);\n",
              "    }\n",
              "    40% {\n",
              "      border-color: transparent;\n",
              "      border-right-color: var(--fill-color);\n",
              "      border-top-color: var(--fill-color);\n",
              "    }\n",
              "    60% {\n",
              "      border-color: transparent;\n",
              "      border-right-color: var(--fill-color);\n",
              "    }\n",
              "    80% {\n",
              "      border-color: transparent;\n",
              "      border-right-color: var(--fill-color);\n",
              "      border-bottom-color: var(--fill-color);\n",
              "    }\n",
              "    90% {\n",
              "      border-color: transparent;\n",
              "      border-bottom-color: var(--fill-color);\n",
              "    }\n",
              "  }\n",
              "</style>\n",
              "\n",
              "  <script>\n",
              "    async function quickchart(key) {\n",
              "      const quickchartButtonEl =\n",
              "        document.querySelector('#' + key + ' button');\n",
              "      quickchartButtonEl.disabled = true;  // To prevent multiple clicks.\n",
              "      quickchartButtonEl.classList.add('colab-df-spinner');\n",
              "      try {\n",
              "        const charts = await google.colab.kernel.invokeFunction(\n",
              "            'suggestCharts', [key], {});\n",
              "      } catch (error) {\n",
              "        console.error('Error during call to suggestCharts:', error);\n",
              "      }\n",
              "      quickchartButtonEl.classList.remove('colab-df-spinner');\n",
              "      quickchartButtonEl.classList.add('colab-df-quickchart-complete');\n",
              "    }\n",
              "    (() => {\n",
              "      let quickchartButtonEl =\n",
              "        document.querySelector('#df-75dc03cc-d8b3-4682-b09e-e6d1f7fec550 button');\n",
              "      quickchartButtonEl.style.display =\n",
              "        google.colab.kernel.accessAllowed ? 'block' : 'none';\n",
              "    })();\n",
              "  </script>\n",
              "</div>\n",
              "\n",
              "    </div>\n",
              "  </div>\n"
            ],
            "application/vnd.google.colaboratory.intrinsic+json": {
              "type": "dataframe",
              "summary": "{\n  \"name\": \"subdf[:3] # show the first 3 records\",\n  \"rows\": 3,\n  \"fields\": [\n    {\n      \"column\": \"age\",\n      \"properties\": {\n        \"dtype\": \"number\",\n        \"std\": 6,\n        \"min\": 38,\n        \"max\": 50,\n        \"num_unique_values\": 3,\n        \"samples\": [\n          39,\n          50,\n          38\n        ],\n        \"semantic_type\": \"\",\n        \"description\": \"\"\n      }\n    },\n    {\n      \"column\": \"yredu\",\n      \"properties\": {\n        \"dtype\": \"number\",\n        \"std\": 2,\n        \"min\": 9,\n        \"max\": 13,\n        \"num_unique_values\": 2,\n        \"samples\": [\n          9,\n          13\n        ],\n        \"semantic_type\": \"\",\n        \"description\": \"\"\n      }\n    },\n    {\n      \"column\": \"capgain\",\n      \"properties\": {\n        \"dtype\": \"number\",\n        \"std\": 1255,\n        \"min\": 0,\n        \"max\": 2174,\n        \"num_unique_values\": 2,\n        \"samples\": [\n          0,\n          2174\n        ],\n        \"semantic_type\": \"\",\n        \"description\": \"\"\n      }\n    },\n    {\n      \"column\": \"caploss\",\n      \"properties\": {\n        \"dtype\": \"number\",\n        \"std\": 0,\n        \"min\": 0,\n        \"max\": 0,\n        \"num_unique_values\": 1,\n        \"samples\": [\n          0\n        ],\n        \"semantic_type\": \"\",\n        \"description\": \"\"\n      }\n    },\n    {\n      \"column\": \"workhr\",\n      \"properties\": {\n        \"dtype\": \"number\",\n        \"std\": 15,\n        \"min\": 13,\n        \"max\": 40,\n        \"num_unique_values\": 2,\n        \"samples\": [\n          13\n        ],\n        \"semantic_type\": \"\",\n        \"description\": \"\"\n      }\n    }\n  ]\n}"
            }
          },
          "metadata": {},
          "execution_count": 5
        }
      ],
      "source": [
        "subdf = df[[\"age\", \"yredu\", \"capgain\", \"caploss\", \"workhr\"]]\n",
        "subdf[:3] # show the first 3 records"
      ]
    },
    {
      "cell_type": "markdown",
      "metadata": {
        "id": "2Nru2P0E1pqD"
      },
      "source": [
        "Numpy works nicely with pandas, like below:"
      ]
    },
    {
      "cell_type": "code",
      "execution_count": null,
      "metadata": {
        "colab": {
          "base_uri": "https://localhost:8080/"
        },
        "id": "JXrS6tjp1pqE",
        "outputId": "179e4976-5106-45a1-b2db-3b3cef03ef0d"
      },
      "outputs": [
        {
          "output_type": "execute_result",
          "data": {
            "text/plain": [
              "2842700"
            ]
          },
          "metadata": {},
          "execution_count": 6
        }
      ],
      "source": [
        "np.sum(subdf[\"caploss\"])"
      ]
    },
    {
      "cell_type": "markdown",
      "metadata": {
        "id": "Mv5mbxDM1pqH"
      },
      "source": [
        "Just like numpy arrays, you can modify\n",
        "entire columns of data rather than one scalar element at a time.\n",
        "For example, the code  \n",
        "\n",
        "`df[\"age\"] = df[\"age\"] + 1`\n",
        "\n",
        "would increment everyone's age by 1."
      ]
    },
    {
      "cell_type": "markdown",
      "source": [
        "----------------------------\n",
        "For each of the columns [\"age\", \"yredu\", \"capgain\", \"caploss\", \"workhr\"], report the minimum, maximum, and average value across the dataset.\n",
        "\n",
        "Then, normalize each of the features [\"age\", \"yredu\", \"capgain\", \"caploss\", \"workhr\"] so that their values are always between 0 and 1. Make sure that you are actually modifying the dataframe df"
      ],
      "metadata": {
        "id": "xO94ie3xDFav"
      }
    },
    {
      "cell_type": "code",
      "execution_count": null,
      "metadata": {
        "colab": {
          "base_uri": "https://localhost:8080/"
        },
        "id": "k5rlWD7-1pqH",
        "jupyter": {
          "outputs_hidden": true
        },
        "outputId": "c2bbd748-2e62-4459-f55f-87b63515840d"
      },
      "outputs": [
        {
          "output_type": "stream",
          "name": "stdout",
          "text": [
            "Data frame method (Minimum Values):\n",
            "age        17\n",
            "yredu       1\n",
            "capgain     0\n",
            "caploss     0\n",
            "workhr      1\n",
            "dtype: int64\n",
            "Numpy method (Minimum Values):\n",
            "age        17\n",
            "yredu       1\n",
            "capgain     0\n",
            "caploss     0\n",
            "workhr      1\n",
            "dtype: int64\n",
            "Data frame method (Maximum Values)\n",
            "age           90\n",
            "yredu         16\n",
            "capgain    99999\n",
            "caploss     4356\n",
            "workhr        99\n",
            "dtype: int64\n",
            "Numpy method (Maximum Values):\n",
            "age           90\n",
            "yredu         16\n",
            "capgain    99999\n",
            "caploss     4356\n",
            "workhr        99\n",
            "dtype: int64\n",
            "Data frame method (Maximum Values)\n",
            "age          38.581647\n",
            "yredu        10.080679\n",
            "capgain    1077.648844\n",
            "caploss      87.303830\n",
            "workhr       40.437456\n",
            "dtype: float64\n",
            "Numpy method (Avg Values):\n",
            "age          38.581647\n",
            "yredu        10.080679\n",
            "capgain    1077.648844\n",
            "caploss      87.303830\n",
            "workhr       40.437456\n",
            "dtype: float64\n"
          ]
        }
      ],
      "source": [
        "#Slice based on specific column names\n",
        "subdf = df[[\"age\", \"yredu\", \"capgain\", \"caploss\", \"workhr\"]]\n",
        "\n",
        "\n",
        "# Use with Numpy and use with Data Frames\n",
        "\n",
        "#Min\n",
        "min_subdf = subdf.min(axis = 0)\n",
        "print(\"Data frame method (Minimum Values):\")\n",
        "print(subdf.min(axis = 0))\n",
        "#Or for min\n",
        "print(\"Numpy method (Minimum Values):\")\n",
        "print(np.min(subdf[:], axis =0))\n",
        "\n",
        "#Max\n",
        "max_subdf = subdf.max(axis = 0)\n",
        "print(\"Data frame method (Maximum Values)\")\n",
        "print(subdf.max(axis = 0))\n",
        "print(\"Numpy method (Maximum Values):\")\n",
        "print(np.max(subdf[:], axis = 0))\n",
        "#Avg Value\n",
        "print(\"Data frame method (Maximum Values)\")\n",
        "print(subdf.mean(axis =0))\n",
        "print(\"Numpy method (Avg Values):\")\n",
        "print(np.mean(subdf[:], axis = 0))\n"
      ]
    },
    {
      "cell_type": "code",
      "source": [
        "normalized_df = subdf.copy()\n",
        "\n",
        "for col in normalized_df.columns:\n",
        "    normalized_df[col] = (normalized_df[col] -min_subdf[col]) / (max_subdf[col] - min_subdf[col])\n",
        "print(\"Normalized:\")\n",
        "print(normalized_df)\n",
        "print(\"Original:\")\n",
        "print(subdf)\n"
      ],
      "metadata": {
        "colab": {
          "base_uri": "https://localhost:8080/"
        },
        "id": "VqAwWobYC-yq",
        "outputId": "da461bbd-9f3d-4694-9624-34e6d6f29ac4"
      },
      "execution_count": null,
      "outputs": [
        {
          "output_type": "stream",
          "name": "stdout",
          "text": [
            "Normalized:\n",
            "            age     yredu   capgain  caploss    workhr\n",
            "0      0.301370  0.800000  0.021740      0.0  0.397959\n",
            "1      0.452055  0.800000  0.000000      0.0  0.122449\n",
            "2      0.287671  0.533333  0.000000      0.0  0.397959\n",
            "3      0.493151  0.400000  0.000000      0.0  0.397959\n",
            "4      0.150685  0.800000  0.000000      0.0  0.397959\n",
            "...         ...       ...       ...      ...       ...\n",
            "32556  0.136986  0.733333  0.000000      0.0  0.377551\n",
            "32557  0.315068  0.533333  0.000000      0.0  0.397959\n",
            "32558  0.561644  0.533333  0.000000      0.0  0.397959\n",
            "32559  0.068493  0.533333  0.000000      0.0  0.193878\n",
            "32560  0.479452  0.533333  0.150242      0.0  0.397959\n",
            "\n",
            "[32561 rows x 5 columns]\n",
            "Original:\n",
            "       age  yredu  capgain  caploss  workhr\n",
            "0       39     13     2174        0      40\n",
            "1       50     13        0        0      13\n",
            "2       38      9        0        0      40\n",
            "3       53      7        0        0      40\n",
            "4       28     13        0        0      40\n",
            "...    ...    ...      ...      ...     ...\n",
            "32556   27     12        0        0      38\n",
            "32557   40      9        0        0      40\n",
            "32558   58      9        0        0      40\n",
            "32559   22      9        0        0      20\n",
            "32560   52      9    15024        0      40\n",
            "\n",
            "[32561 rows x 5 columns]\n"
          ]
        }
      ]
    },
    {
      "cell_type": "code",
      "source": [
        "print(\"Modify Original df to be Normalized: \")\n",
        "df[[\"age\", \"yredu\", \"capgain\", \"caploss\", \"workhr\"]] = normalized_df[[\"age\", \"yredu\", \"capgain\", \"caploss\", \"workhr\"]]\n",
        "\n",
        "print(df)\n"
      ],
      "metadata": {
        "colab": {
          "base_uri": "https://localhost:8080/"
        },
        "id": "ir4_zggs0HDd",
        "outputId": "a9726562-4027-4922-9af5-9b285f657095"
      },
      "execution_count": null,
      "outputs": [
        {
          "output_type": "stream",
          "name": "stdout",
          "text": [
            "Modify Original df to be Normalized: \n",
            "            age               work  fnlwgt          edu     yredu  \\\n",
            "0      0.301370          State-gov   77516    Bachelors  0.800000   \n",
            "1      0.452055   Self-emp-not-inc   83311    Bachelors  0.800000   \n",
            "2      0.287671            Private  215646      HS-grad  0.533333   \n",
            "3      0.493151            Private  234721         11th  0.400000   \n",
            "4      0.150685            Private  338409    Bachelors  0.800000   \n",
            "...         ...                ...     ...          ...       ...   \n",
            "32556  0.136986            Private  257302   Assoc-acdm  0.733333   \n",
            "32557  0.315068            Private  154374      HS-grad  0.533333   \n",
            "32558  0.561644            Private  151910      HS-grad  0.533333   \n",
            "32559  0.068493            Private  201490      HS-grad  0.533333   \n",
            "32560  0.479452       Self-emp-inc  287927      HS-grad  0.533333   \n",
            "\n",
            "                  marriage          occupation    relationship    race  \\\n",
            "0            Never-married        Adm-clerical   Not-in-family   White   \n",
            "1       Married-civ-spouse     Exec-managerial         Husband   White   \n",
            "2                 Divorced   Handlers-cleaners   Not-in-family   White   \n",
            "3       Married-civ-spouse   Handlers-cleaners         Husband   Black   \n",
            "4       Married-civ-spouse      Prof-specialty            Wife   Black   \n",
            "...                    ...                 ...             ...     ...   \n",
            "32556   Married-civ-spouse        Tech-support            Wife   White   \n",
            "32557   Married-civ-spouse   Machine-op-inspct         Husband   White   \n",
            "32558              Widowed        Adm-clerical       Unmarried   White   \n",
            "32559        Never-married        Adm-clerical       Own-child   White   \n",
            "32560   Married-civ-spouse     Exec-managerial            Wife   White   \n",
            "\n",
            "           sex   capgain  caploss    workhr         country  \n",
            "0         Male  0.021740      0.0  0.397959   United-States  \n",
            "1         Male  0.000000      0.0  0.122449   United-States  \n",
            "2         Male  0.000000      0.0  0.397959   United-States  \n",
            "3         Male  0.000000      0.0  0.397959   United-States  \n",
            "4       Female  0.000000      0.0  0.397959            Cuba  \n",
            "...        ...       ...      ...       ...             ...  \n",
            "32556   Female  0.000000      0.0  0.377551   United-States  \n",
            "32557     Male  0.000000      0.0  0.397959   United-States  \n",
            "32558   Female  0.000000      0.0  0.397959   United-States  \n",
            "32559     Male  0.000000      0.0  0.193878   United-States  \n",
            "32560   Female  0.150242      0.0  0.397959   United-States  \n",
            "\n",
            "[32561 rows x 14 columns]\n"
          ]
        }
      ]
    },
    {
      "cell_type": "markdown",
      "metadata": {
        "id": "qbfMly4R1pqK"
      },
      "source": [
        "### Part (b) Categorical Features [1 pt]\n",
        "\n",
        "What percentage of people in our data set are male? Note that the data labels all have an unfortunate space in the beginning, e.g. \" Male\" instead of \"Male\".\n",
        "\n",
        "What percentage of people in our data set are female?"
      ]
    },
    {
      "cell_type": "code",
      "execution_count": null,
      "metadata": {
        "colab": {
          "base_uri": "https://localhost:8080/"
        },
        "id": "DjAjcsB_1pqK",
        "outputId": "c7a4d484-0f3f-4425-c15d-18b32fab2b25"
      },
      "outputs": [
        {
          "output_type": "stream",
          "name": "stdout",
          "text": [
            "total males in dataset:  21790\n",
            "Percent Male: 66.92054912318419 %\n"
          ]
        }
      ],
      "source": [
        "# hint: you can do something like this in pandas\n",
        "total_males_in_dataset = sum(df[\"sex\"] == \" Male\")\n",
        "total_females_in_dataset = sum(df[\"sex\"] == \" Female\")\n",
        "\n",
        "percent_male = (total_males_in_dataset/(total_females_in_dataset + total_males_in_dataset))*100\n",
        "\n",
        "print(\"total males in dataset: \", total_males_in_dataset)\n",
        "print(\"Percent Male: \" + str(percent_male) + \" %\")"
      ]
    },
    {
      "cell_type": "code",
      "source": [
        "total_females_in_dataset = sum(df[\"sex\"] == \" Female\")\n",
        "print(\"total females in dataset: \", total_females_in_dataset)\n",
        "\n",
        "#Percntage of people in data set that are female\n",
        "percent_female = (total_females_in_dataset/(total_females_in_dataset + total_males_in_dataset))*100\n",
        "print(\"Percent female: \" + str(percent_female) + \" %\")"
      ],
      "metadata": {
        "colab": {
          "base_uri": "https://localhost:8080/"
        },
        "id": "KK-H1_BxKOFo",
        "outputId": "77ec1589-0d8a-4d1c-e685-5c022c21b233"
      },
      "execution_count": null,
      "outputs": [
        {
          "output_type": "stream",
          "name": "stdout",
          "text": [
            "total females in dataset:  10771\n",
            "Percent female: 33.07945087681583 %\n"
          ]
        }
      ]
    },
    {
      "cell_type": "markdown",
      "metadata": {
        "id": "eGVw7pqL1pqN"
      },
      "source": [
        "### Part (c) [2 pt]\n",
        "\n",
        "Before proceeding, we will modify our data frame in a couple more ways:\n",
        "\n",
        "1. We will restrict ourselves to using a subset of the features (to simplify our autoencoder)\n",
        "2. We will remove any records (rows) already containing missing values, and store them in a second dataframe. We will only use records without missing values to train our autoencoder.\n",
        "\n",
        "Both of these steps are done for you, below.\n",
        "\n",
        "How many records contained missing features? What percentage of records were removed?"
      ]
    },
    {
      "cell_type": "code",
      "execution_count": null,
      "metadata": {
        "collapsed": true,
        "id": "z6ewPUdv1pqO",
        "jupyter": {
          "outputs_hidden": true
        }
      },
      "outputs": [],
      "source": [
        "contcols = [\"age\", \"yredu\", \"capgain\", \"caploss\", \"workhr\"]\n",
        "catcols = [\"work\", \"marriage\", \"occupation\", \"edu\", \"relationship\", \"sex\"]\n",
        "features = contcols + catcols\n",
        "df = df[features]"
      ]
    },
    {
      "cell_type": "code",
      "execution_count": null,
      "metadata": {
        "colab": {
          "base_uri": "https://localhost:8080/"
        },
        "id": "fjdVll5a1pqQ",
        "jupyter": {
          "outputs_hidden": true
        },
        "outputId": "50e01864-8a5f-490e-aba0-422af431ab24"
      },
      "outputs": [
        {
          "output_type": "stream",
          "name": "stdout",
          "text": [
            "Missing: \n",
            "0        False\n",
            "1        False\n",
            "2        False\n",
            "3        False\n",
            "4        False\n",
            "         ...  \n",
            "32556    False\n",
            "32557    False\n",
            "32558    False\n",
            "32559    False\n",
            "32560    False\n",
            "Length: 32561, dtype: bool\n",
            "Missing[27] =  True\n",
            "Data Frame With Missing:\n",
            "            age     yredu   capgain  caploss    workhr work  \\\n",
            "27     0.506849  0.600000  0.000000      0.0  0.602041    ?   \n",
            "61     0.205479  0.200000  0.000000      0.0  0.397959    ?   \n",
            "69     0.109589  0.600000  0.000000      0.0  0.397959    ?   \n",
            "77     0.684932  0.333333  0.000000      0.0  0.010204    ?   \n",
            "106    0.000000  0.333333  0.340953      0.0  0.316327    ?   \n",
            "...         ...       ...       ...      ...       ...  ...   \n",
            "32530  0.246575  0.800000  0.000000      0.0  0.551020    ?   \n",
            "32531  0.178082  0.800000  0.000000      0.0  1.000000    ?   \n",
            "32539  0.739726  1.000000  0.000000      0.0  0.091837    ?   \n",
            "32541  0.328767  0.533333  0.000000      0.0  0.316327    ?   \n",
            "32542  0.753425  0.533333  0.000000      0.0  0.244898    ?   \n",
            "\n",
            "                     marriage occupation            edu    relationship  \\\n",
            "27         Married-civ-spouse          ?   Some-college         Husband   \n",
            "61      Married-spouse-absent          ?        7th-8th   Not-in-family   \n",
            "69              Never-married          ?   Some-college       Own-child   \n",
            "77         Married-civ-spouse          ?           10th         Husband   \n",
            "106             Never-married          ?           10th       Own-child   \n",
            "...                       ...        ...            ...             ...   \n",
            "32530      Married-civ-spouse          ?      Bachelors            Wife   \n",
            "32531           Never-married          ?      Bachelors   Not-in-family   \n",
            "32539      Married-civ-spouse          ?      Doctorate         Husband   \n",
            "32541               Separated          ?        HS-grad   Not-in-family   \n",
            "32542      Married-civ-spouse          ?        HS-grad         Husband   \n",
            "\n",
            "           sex  \n",
            "27        Male  \n",
            "61        Male  \n",
            "69        Male  \n",
            "77        Male  \n",
            "106     Female  \n",
            "...        ...  \n",
            "32530   Female  \n",
            "32531   Female  \n",
            "32539     Male  \n",
            "32541   Female  \n",
            "32542     Male  \n",
            "\n",
            "[1843 rows x 11 columns]\n",
            "Data Frame Without Missing:\n",
            "            age     yredu   capgain  caploss    workhr               work  \\\n",
            "0      0.301370  0.800000  0.021740      0.0  0.397959          State-gov   \n",
            "1      0.452055  0.800000  0.000000      0.0  0.122449   Self-emp-not-inc   \n",
            "2      0.287671  0.533333  0.000000      0.0  0.397959            Private   \n",
            "3      0.493151  0.400000  0.000000      0.0  0.397959            Private   \n",
            "4      0.150685  0.800000  0.000000      0.0  0.397959            Private   \n",
            "...         ...       ...       ...      ...       ...                ...   \n",
            "32556  0.136986  0.733333  0.000000      0.0  0.377551            Private   \n",
            "32557  0.315068  0.533333  0.000000      0.0  0.397959            Private   \n",
            "32558  0.561644  0.533333  0.000000      0.0  0.397959            Private   \n",
            "32559  0.068493  0.533333  0.000000      0.0  0.193878            Private   \n",
            "32560  0.479452  0.533333  0.150242      0.0  0.397959       Self-emp-inc   \n",
            "\n",
            "                  marriage          occupation          edu    relationship  \\\n",
            "0            Never-married        Adm-clerical    Bachelors   Not-in-family   \n",
            "1       Married-civ-spouse     Exec-managerial    Bachelors         Husband   \n",
            "2                 Divorced   Handlers-cleaners      HS-grad   Not-in-family   \n",
            "3       Married-civ-spouse   Handlers-cleaners         11th         Husband   \n",
            "4       Married-civ-spouse      Prof-specialty    Bachelors            Wife   \n",
            "...                    ...                 ...          ...             ...   \n",
            "32556   Married-civ-spouse        Tech-support   Assoc-acdm            Wife   \n",
            "32557   Married-civ-spouse   Machine-op-inspct      HS-grad         Husband   \n",
            "32558              Widowed        Adm-clerical      HS-grad       Unmarried   \n",
            "32559        Never-married        Adm-clerical      HS-grad       Own-child   \n",
            "32560   Married-civ-spouse     Exec-managerial      HS-grad            Wife   \n",
            "\n",
            "           sex  \n",
            "0         Male  \n",
            "1         Male  \n",
            "2         Male  \n",
            "3         Male  \n",
            "4       Female  \n",
            "...        ...  \n",
            "32556   Female  \n",
            "32557     Male  \n",
            "32558   Female  \n",
            "32559     Male  \n",
            "32560   Female  \n",
            "\n",
            "[30718 rows x 11 columns]\n",
            "How many Missing Values were True: \n",
            "1843\n"
          ]
        }
      ],
      "source": [
        "missing = pd.concat([df[c] == \" ?\" for c in catcols], axis=1).any(axis=1)\n",
        "df_with_missing = df[missing]\n",
        "print(\"Missing: \")\n",
        "print(missing)\n",
        "print(\"Missing[27] = \", missing[27]) # Should give true since it is missing at the 27th entry\n",
        "\n",
        "# note: the ones with True have this df[c] == \" ?\" for c in catcols statement valid\n",
        "print(\"Data Frame With Missing:\")\n",
        "print(df_with_missing)\n",
        "print(\"Data Frame Without Missing:\")\n",
        "df_not_missing = df[~missing]\n",
        "print(df_not_missing)\n",
        "#####################################################\n",
        "# To count How many records contained missing features:\n",
        "# take the missing and find how many of these were true\n",
        "print(\"How many Missing Values were True: \")\n",
        "print(missing[:].value_counts()[1])\n",
        "missing_records = missing[:].value_counts()[1]\n",
        "# [1] takes only true values\n",
        "#Note: missing[:].value_counts() gave\n",
        "#  False  [number_of false's in col]\n",
        "# True    [number of trues in col]\n",
        "# Answer is continued the code below:"
      ]
    },
    {
      "cell_type": "code",
      "source": [
        "# Percentage of records removed:\n",
        "# In the missing variable, find the total number of records there were\n",
        "total_records = len(missing)\n",
        "percent_records_removed = (missing_records/total_records) *100\n",
        "print(\"Total Records: \",total_records )\n",
        "print(\"\\n\\nSolution:\")\n",
        "print(\"Number of Records with Missing Features:\", missing_records)\n",
        "print(\"Percentage Records removed: \", percent_records_removed, \"%\")"
      ],
      "metadata": {
        "colab": {
          "base_uri": "https://localhost:8080/"
        },
        "id": "ngz4DDQ8LON7",
        "outputId": "317a5426-342c-4181-d5cf-7e4bc4137c9a"
      },
      "execution_count": null,
      "outputs": [
        {
          "output_type": "stream",
          "name": "stdout",
          "text": [
            "Total Records:  32561\n",
            "\n",
            "\n",
            "Solution:\n",
            "Number of Records with Missing Features: 1843\n",
            "Percentage Records removed:  5.660145572924664 %\n"
          ]
        }
      ]
    },
    {
      "cell_type": "markdown",
      "metadata": {
        "id": "XuEpndTQ1pqU"
      },
      "source": [
        "### Part (d) One-Hot Encoding [1 pt]\n",
        "\n",
        "What are all the possible values of the feature \"work\" in `df_not_missing`? You may find the Python function `set` useful."
      ]
    },
    {
      "cell_type": "code",
      "execution_count": null,
      "metadata": {
        "colab": {
          "base_uri": "https://localhost:8080/"
        },
        "id": "iKFh4owE1pqV",
        "jupyter": {
          "outputs_hidden": true
        },
        "outputId": "8e9c5ee7-ef51-4981-9806-a631f551332a"
      },
      "outputs": [
        {
          "output_type": "stream",
          "name": "stdout",
          "text": [
            "All possible values of the feature Work\n",
            "{' Private', ' State-gov', ' Local-gov', ' Federal-gov', ' Self-emp-not-inc', ' Self-emp-inc', ' Without-pay'}\n"
          ]
        }
      ],
      "source": [
        "types_of_work = set(df_not_missing[\"work\"])\n",
        "#print(\"All work values in df_not_missing:\")\n",
        "#print(df_not_missing[\"work\"])\n",
        "\n",
        "print(\"All possible values of the feature Work\")\n",
        "print(types_of_work)"
      ]
    },
    {
      "cell_type": "markdown",
      "metadata": {
        "id": "COv3HaKr1pqY"
      },
      "source": [
        "We will be using a one-hot encoding to represent each of the categorical variables.\n",
        "Our autoencoder will be trained using these one-hot encodings.\n",
        "\n",
        "We will use the pandas function `get_dummies` to produce one-hot encodings\n",
        "for all of the categorical variables in `df_not_missing`."
      ]
    },
    {
      "cell_type": "code",
      "source": [
        "df_not_missing[:3]"
      ],
      "metadata": {
        "colab": {
          "base_uri": "https://localhost:8080/",
          "height": 143
        },
        "id": "kdczBhRgYro3",
        "outputId": "c332d785-0ff3-4587-9bef-62b2f0df91cd"
      },
      "execution_count": null,
      "outputs": [
        {
          "output_type": "execute_result",
          "data": {
            "text/plain": [
              "        age     yredu  capgain  caploss    workhr               work  \\\n",
              "0  0.301370  0.800000  0.02174      0.0  0.397959          State-gov   \n",
              "1  0.452055  0.800000  0.00000      0.0  0.122449   Self-emp-not-inc   \n",
              "2  0.287671  0.533333  0.00000      0.0  0.397959            Private   \n",
              "\n",
              "              marriage          occupation         edu    relationship    sex  \n",
              "0        Never-married        Adm-clerical   Bachelors   Not-in-family   Male  \n",
              "1   Married-civ-spouse     Exec-managerial   Bachelors         Husband   Male  \n",
              "2             Divorced   Handlers-cleaners     HS-grad   Not-in-family   Male  "
            ],
            "text/html": [
              "\n",
              "  <div id=\"df-6e404375-8339-4ac4-a0c3-e6c3d46b8bb1\" class=\"colab-df-container\">\n",
              "    <div>\n",
              "<style scoped>\n",
              "    .dataframe tbody tr th:only-of-type {\n",
              "        vertical-align: middle;\n",
              "    }\n",
              "\n",
              "    .dataframe tbody tr th {\n",
              "        vertical-align: top;\n",
              "    }\n",
              "\n",
              "    .dataframe thead th {\n",
              "        text-align: right;\n",
              "    }\n",
              "</style>\n",
              "<table border=\"1\" class=\"dataframe\">\n",
              "  <thead>\n",
              "    <tr style=\"text-align: right;\">\n",
              "      <th></th>\n",
              "      <th>age</th>\n",
              "      <th>yredu</th>\n",
              "      <th>capgain</th>\n",
              "      <th>caploss</th>\n",
              "      <th>workhr</th>\n",
              "      <th>work</th>\n",
              "      <th>marriage</th>\n",
              "      <th>occupation</th>\n",
              "      <th>edu</th>\n",
              "      <th>relationship</th>\n",
              "      <th>sex</th>\n",
              "    </tr>\n",
              "  </thead>\n",
              "  <tbody>\n",
              "    <tr>\n",
              "      <th>0</th>\n",
              "      <td>0.301370</td>\n",
              "      <td>0.800000</td>\n",
              "      <td>0.02174</td>\n",
              "      <td>0.0</td>\n",
              "      <td>0.397959</td>\n",
              "      <td>State-gov</td>\n",
              "      <td>Never-married</td>\n",
              "      <td>Adm-clerical</td>\n",
              "      <td>Bachelors</td>\n",
              "      <td>Not-in-family</td>\n",
              "      <td>Male</td>\n",
              "    </tr>\n",
              "    <tr>\n",
              "      <th>1</th>\n",
              "      <td>0.452055</td>\n",
              "      <td>0.800000</td>\n",
              "      <td>0.00000</td>\n",
              "      <td>0.0</td>\n",
              "      <td>0.122449</td>\n",
              "      <td>Self-emp-not-inc</td>\n",
              "      <td>Married-civ-spouse</td>\n",
              "      <td>Exec-managerial</td>\n",
              "      <td>Bachelors</td>\n",
              "      <td>Husband</td>\n",
              "      <td>Male</td>\n",
              "    </tr>\n",
              "    <tr>\n",
              "      <th>2</th>\n",
              "      <td>0.287671</td>\n",
              "      <td>0.533333</td>\n",
              "      <td>0.00000</td>\n",
              "      <td>0.0</td>\n",
              "      <td>0.397959</td>\n",
              "      <td>Private</td>\n",
              "      <td>Divorced</td>\n",
              "      <td>Handlers-cleaners</td>\n",
              "      <td>HS-grad</td>\n",
              "      <td>Not-in-family</td>\n",
              "      <td>Male</td>\n",
              "    </tr>\n",
              "  </tbody>\n",
              "</table>\n",
              "</div>\n",
              "    <div class=\"colab-df-buttons\">\n",
              "\n",
              "  <div class=\"colab-df-container\">\n",
              "    <button class=\"colab-df-convert\" onclick=\"convertToInteractive('df-6e404375-8339-4ac4-a0c3-e6c3d46b8bb1')\"\n",
              "            title=\"Convert this dataframe to an interactive table.\"\n",
              "            style=\"display:none;\">\n",
              "\n",
              "  <svg xmlns=\"http://www.w3.org/2000/svg\" height=\"24px\" viewBox=\"0 -960 960 960\">\n",
              "    <path d=\"M120-120v-720h720v720H120Zm60-500h600v-160H180v160Zm220 220h160v-160H400v160Zm0 220h160v-160H400v160ZM180-400h160v-160H180v160Zm440 0h160v-160H620v160ZM180-180h160v-160H180v160Zm440 0h160v-160H620v160Z\"/>\n",
              "  </svg>\n",
              "    </button>\n",
              "\n",
              "  <style>\n",
              "    .colab-df-container {\n",
              "      display:flex;\n",
              "      gap: 12px;\n",
              "    }\n",
              "\n",
              "    .colab-df-convert {\n",
              "      background-color: #E8F0FE;\n",
              "      border: none;\n",
              "      border-radius: 50%;\n",
              "      cursor: pointer;\n",
              "      display: none;\n",
              "      fill: #1967D2;\n",
              "      height: 32px;\n",
              "      padding: 0 0 0 0;\n",
              "      width: 32px;\n",
              "    }\n",
              "\n",
              "    .colab-df-convert:hover {\n",
              "      background-color: #E2EBFA;\n",
              "      box-shadow: 0px 1px 2px rgba(60, 64, 67, 0.3), 0px 1px 3px 1px rgba(60, 64, 67, 0.15);\n",
              "      fill: #174EA6;\n",
              "    }\n",
              "\n",
              "    .colab-df-buttons div {\n",
              "      margin-bottom: 4px;\n",
              "    }\n",
              "\n",
              "    [theme=dark] .colab-df-convert {\n",
              "      background-color: #3B4455;\n",
              "      fill: #D2E3FC;\n",
              "    }\n",
              "\n",
              "    [theme=dark] .colab-df-convert:hover {\n",
              "      background-color: #434B5C;\n",
              "      box-shadow: 0px 1px 3px 1px rgba(0, 0, 0, 0.15);\n",
              "      filter: drop-shadow(0px 1px 2px rgba(0, 0, 0, 0.3));\n",
              "      fill: #FFFFFF;\n",
              "    }\n",
              "  </style>\n",
              "\n",
              "    <script>\n",
              "      const buttonEl =\n",
              "        document.querySelector('#df-6e404375-8339-4ac4-a0c3-e6c3d46b8bb1 button.colab-df-convert');\n",
              "      buttonEl.style.display =\n",
              "        google.colab.kernel.accessAllowed ? 'block' : 'none';\n",
              "\n",
              "      async function convertToInteractive(key) {\n",
              "        const element = document.querySelector('#df-6e404375-8339-4ac4-a0c3-e6c3d46b8bb1');\n",
              "        const dataTable =\n",
              "          await google.colab.kernel.invokeFunction('convertToInteractive',\n",
              "                                                    [key], {});\n",
              "        if (!dataTable) return;\n",
              "\n",
              "        const docLinkHtml = 'Like what you see? Visit the ' +\n",
              "          '<a target=\"_blank\" href=https://colab.research.google.com/notebooks/data_table.ipynb>data table notebook</a>'\n",
              "          + ' to learn more about interactive tables.';\n",
              "        element.innerHTML = '';\n",
              "        dataTable['output_type'] = 'display_data';\n",
              "        await google.colab.output.renderOutput(dataTable, element);\n",
              "        const docLink = document.createElement('div');\n",
              "        docLink.innerHTML = docLinkHtml;\n",
              "        element.appendChild(docLink);\n",
              "      }\n",
              "    </script>\n",
              "  </div>\n",
              "\n",
              "\n",
              "<div id=\"df-045f90c7-1326-422c-977d-b68bcceea9fb\">\n",
              "  <button class=\"colab-df-quickchart\" onclick=\"quickchart('df-045f90c7-1326-422c-977d-b68bcceea9fb')\"\n",
              "            title=\"Suggest charts\"\n",
              "            style=\"display:none;\">\n",
              "\n",
              "<svg xmlns=\"http://www.w3.org/2000/svg\" height=\"24px\"viewBox=\"0 0 24 24\"\n",
              "     width=\"24px\">\n",
              "    <g>\n",
              "        <path d=\"M19 3H5c-1.1 0-2 .9-2 2v14c0 1.1.9 2 2 2h14c1.1 0 2-.9 2-2V5c0-1.1-.9-2-2-2zM9 17H7v-7h2v7zm4 0h-2V7h2v10zm4 0h-2v-4h2v4z\"/>\n",
              "    </g>\n",
              "</svg>\n",
              "  </button>\n",
              "\n",
              "<style>\n",
              "  .colab-df-quickchart {\n",
              "      --bg-color: #E8F0FE;\n",
              "      --fill-color: #1967D2;\n",
              "      --hover-bg-color: #E2EBFA;\n",
              "      --hover-fill-color: #174EA6;\n",
              "      --disabled-fill-color: #AAA;\n",
              "      --disabled-bg-color: #DDD;\n",
              "  }\n",
              "\n",
              "  [theme=dark] .colab-df-quickchart {\n",
              "      --bg-color: #3B4455;\n",
              "      --fill-color: #D2E3FC;\n",
              "      --hover-bg-color: #434B5C;\n",
              "      --hover-fill-color: #FFFFFF;\n",
              "      --disabled-bg-color: #3B4455;\n",
              "      --disabled-fill-color: #666;\n",
              "  }\n",
              "\n",
              "  .colab-df-quickchart {\n",
              "    background-color: var(--bg-color);\n",
              "    border: none;\n",
              "    border-radius: 50%;\n",
              "    cursor: pointer;\n",
              "    display: none;\n",
              "    fill: var(--fill-color);\n",
              "    height: 32px;\n",
              "    padding: 0;\n",
              "    width: 32px;\n",
              "  }\n",
              "\n",
              "  .colab-df-quickchart:hover {\n",
              "    background-color: var(--hover-bg-color);\n",
              "    box-shadow: 0 1px 2px rgba(60, 64, 67, 0.3), 0 1px 3px 1px rgba(60, 64, 67, 0.15);\n",
              "    fill: var(--button-hover-fill-color);\n",
              "  }\n",
              "\n",
              "  .colab-df-quickchart-complete:disabled,\n",
              "  .colab-df-quickchart-complete:disabled:hover {\n",
              "    background-color: var(--disabled-bg-color);\n",
              "    fill: var(--disabled-fill-color);\n",
              "    box-shadow: none;\n",
              "  }\n",
              "\n",
              "  .colab-df-spinner {\n",
              "    border: 2px solid var(--fill-color);\n",
              "    border-color: transparent;\n",
              "    border-bottom-color: var(--fill-color);\n",
              "    animation:\n",
              "      spin 1s steps(1) infinite;\n",
              "  }\n",
              "\n",
              "  @keyframes spin {\n",
              "    0% {\n",
              "      border-color: transparent;\n",
              "      border-bottom-color: var(--fill-color);\n",
              "      border-left-color: var(--fill-color);\n",
              "    }\n",
              "    20% {\n",
              "      border-color: transparent;\n",
              "      border-left-color: var(--fill-color);\n",
              "      border-top-color: var(--fill-color);\n",
              "    }\n",
              "    30% {\n",
              "      border-color: transparent;\n",
              "      border-left-color: var(--fill-color);\n",
              "      border-top-color: var(--fill-color);\n",
              "      border-right-color: var(--fill-color);\n",
              "    }\n",
              "    40% {\n",
              "      border-color: transparent;\n",
              "      border-right-color: var(--fill-color);\n",
              "      border-top-color: var(--fill-color);\n",
              "    }\n",
              "    60% {\n",
              "      border-color: transparent;\n",
              "      border-right-color: var(--fill-color);\n",
              "    }\n",
              "    80% {\n",
              "      border-color: transparent;\n",
              "      border-right-color: var(--fill-color);\n",
              "      border-bottom-color: var(--fill-color);\n",
              "    }\n",
              "    90% {\n",
              "      border-color: transparent;\n",
              "      border-bottom-color: var(--fill-color);\n",
              "    }\n",
              "  }\n",
              "</style>\n",
              "\n",
              "  <script>\n",
              "    async function quickchart(key) {\n",
              "      const quickchartButtonEl =\n",
              "        document.querySelector('#' + key + ' button');\n",
              "      quickchartButtonEl.disabled = true;  // To prevent multiple clicks.\n",
              "      quickchartButtonEl.classList.add('colab-df-spinner');\n",
              "      try {\n",
              "        const charts = await google.colab.kernel.invokeFunction(\n",
              "            'suggestCharts', [key], {});\n",
              "      } catch (error) {\n",
              "        console.error('Error during call to suggestCharts:', error);\n",
              "      }\n",
              "      quickchartButtonEl.classList.remove('colab-df-spinner');\n",
              "      quickchartButtonEl.classList.add('colab-df-quickchart-complete');\n",
              "    }\n",
              "    (() => {\n",
              "      let quickchartButtonEl =\n",
              "        document.querySelector('#df-045f90c7-1326-422c-977d-b68bcceea9fb button');\n",
              "      quickchartButtonEl.style.display =\n",
              "        google.colab.kernel.accessAllowed ? 'block' : 'none';\n",
              "    })();\n",
              "  </script>\n",
              "</div>\n",
              "\n",
              "    </div>\n",
              "  </div>\n"
            ],
            "application/vnd.google.colaboratory.intrinsic+json": {
              "type": "dataframe",
              "summary": "{\n  \"name\": \"df_not_missing[:3]\",\n  \"rows\": 3,\n  \"fields\": [\n    {\n      \"column\": \"age\",\n      \"properties\": {\n        \"dtype\": \"number\",\n        \"std\": 0.0912099742257451,\n        \"min\": 0.2876712328767123,\n        \"max\": 0.4520547945205479,\n        \"num_unique_values\": 3,\n        \"samples\": [\n          0.3013698630136986,\n          0.4520547945205479,\n          0.2876712328767123\n        ],\n        \"semantic_type\": \"\",\n        \"description\": \"\"\n      }\n    },\n    {\n      \"column\": \"yredu\",\n      \"properties\": {\n        \"dtype\": \"number\",\n        \"std\": 0.15396007178390023,\n        \"min\": 0.5333333333333333,\n        \"max\": 0.8,\n        \"num_unique_values\": 2,\n        \"samples\": [\n          0.5333333333333333,\n          0.8\n        ],\n        \"semantic_type\": \"\",\n        \"description\": \"\"\n      }\n    },\n    {\n      \"column\": \"capgain\",\n      \"properties\": {\n        \"dtype\": \"number\",\n        \"std\": 0.01255172036938616,\n        \"min\": 0.0,\n        \"max\": 0.021740217402174022,\n        \"num_unique_values\": 2,\n        \"samples\": [\n          0.0,\n          0.021740217402174022\n        ],\n        \"semantic_type\": \"\",\n        \"description\": \"\"\n      }\n    },\n    {\n      \"column\": \"caploss\",\n      \"properties\": {\n        \"dtype\": \"number\",\n        \"std\": 0.0,\n        \"min\": 0.0,\n        \"max\": 0.0,\n        \"num_unique_values\": 1,\n        \"samples\": [\n          0.0\n        ],\n        \"semantic_type\": \"\",\n        \"description\": \"\"\n      }\n    },\n    {\n      \"column\": \"workhr\",\n      \"properties\": {\n        \"dtype\": \"number\",\n        \"std\": 0.15906589049101935,\n        \"min\": 0.12244897959183673,\n        \"max\": 0.3979591836734694,\n        \"num_unique_values\": 2,\n        \"samples\": [\n          0.12244897959183673\n        ],\n        \"semantic_type\": \"\",\n        \"description\": \"\"\n      }\n    },\n    {\n      \"column\": \"work\",\n      \"properties\": {\n        \"dtype\": \"string\",\n        \"num_unique_values\": 3,\n        \"samples\": [\n          \" State-gov\"\n        ],\n        \"semantic_type\": \"\",\n        \"description\": \"\"\n      }\n    },\n    {\n      \"column\": \"marriage\",\n      \"properties\": {\n        \"dtype\": \"string\",\n        \"num_unique_values\": 3,\n        \"samples\": [\n          \" Never-married\"\n        ],\n        \"semantic_type\": \"\",\n        \"description\": \"\"\n      }\n    },\n    {\n      \"column\": \"occupation\",\n      \"properties\": {\n        \"dtype\": \"string\",\n        \"num_unique_values\": 3,\n        \"samples\": [\n          \" Adm-clerical\"\n        ],\n        \"semantic_type\": \"\",\n        \"description\": \"\"\n      }\n    },\n    {\n      \"column\": \"edu\",\n      \"properties\": {\n        \"dtype\": \"string\",\n        \"num_unique_values\": 2,\n        \"samples\": [\n          \" HS-grad\"\n        ],\n        \"semantic_type\": \"\",\n        \"description\": \"\"\n      }\n    },\n    {\n      \"column\": \"relationship\",\n      \"properties\": {\n        \"dtype\": \"string\",\n        \"num_unique_values\": 2,\n        \"samples\": [\n          \" Husband\"\n        ],\n        \"semantic_type\": \"\",\n        \"description\": \"\"\n      }\n    },\n    {\n      \"column\": \"sex\",\n      \"properties\": {\n        \"dtype\": \"category\",\n        \"num_unique_values\": 1,\n        \"samples\": [\n          \" Male\"\n        ],\n        \"semantic_type\": \"\",\n        \"description\": \"\"\n      }\n    }\n  ]\n}"
            }
          },
          "metadata": {},
          "execution_count": 18
        }
      ]
    },
    {
      "cell_type": "code",
      "execution_count": null,
      "metadata": {
        "collapsed": true,
        "id": "eKlSYmJg1pqZ",
        "jupyter": {
          "outputs_hidden": true
        }
      },
      "outputs": [],
      "source": [
        "data = pd.get_dummies(df_not_missing)"
      ]
    },
    {
      "cell_type": "code",
      "execution_count": null,
      "metadata": {
        "colab": {
          "base_uri": "https://localhost:8080/",
          "height": 262
        },
        "id": "3y7nTZ7H1pqb",
        "jupyter": {
          "outputs_hidden": true
        },
        "scrolled": true,
        "outputId": "b4ec482f-8503-4076-b333-509ae625408a"
      },
      "outputs": [
        {
          "output_type": "execute_result",
          "data": {
            "text/plain": [
              "        age     yredu  capgain  caploss    workhr  work_ Federal-gov  \\\n",
              "0  0.301370  0.800000  0.02174      0.0  0.397959              False   \n",
              "1  0.452055  0.800000  0.00000      0.0  0.122449              False   \n",
              "2  0.287671  0.533333  0.00000      0.0  0.397959              False   \n",
              "\n",
              "   work_ Local-gov  work_ Private  work_ Self-emp-inc  work_ Self-emp-not-inc  \\\n",
              "0            False          False               False                   False   \n",
              "1            False          False               False                    True   \n",
              "2            False           True               False                   False   \n",
              "\n",
              "   ...  edu_ Prof-school  edu_ Some-college  relationship_ Husband  \\\n",
              "0  ...             False              False                  False   \n",
              "1  ...             False              False                   True   \n",
              "2  ...             False              False                  False   \n",
              "\n",
              "   relationship_ Not-in-family  relationship_ Other-relative  \\\n",
              "0                         True                         False   \n",
              "1                        False                         False   \n",
              "2                         True                         False   \n",
              "\n",
              "   relationship_ Own-child  relationship_ Unmarried  relationship_ Wife  \\\n",
              "0                    False                    False               False   \n",
              "1                    False                    False               False   \n",
              "2                    False                    False               False   \n",
              "\n",
              "   sex_ Female  sex_ Male  \n",
              "0        False       True  \n",
              "1        False       True  \n",
              "2        False       True  \n",
              "\n",
              "[3 rows x 57 columns]"
            ],
            "text/html": [
              "\n",
              "  <div id=\"df-e7b86a4c-c51f-45c0-ad22-4d4d2fc2ecfa\" class=\"colab-df-container\">\n",
              "    <div>\n",
              "<style scoped>\n",
              "    .dataframe tbody tr th:only-of-type {\n",
              "        vertical-align: middle;\n",
              "    }\n",
              "\n",
              "    .dataframe tbody tr th {\n",
              "        vertical-align: top;\n",
              "    }\n",
              "\n",
              "    .dataframe thead th {\n",
              "        text-align: right;\n",
              "    }\n",
              "</style>\n",
              "<table border=\"1\" class=\"dataframe\">\n",
              "  <thead>\n",
              "    <tr style=\"text-align: right;\">\n",
              "      <th></th>\n",
              "      <th>age</th>\n",
              "      <th>yredu</th>\n",
              "      <th>capgain</th>\n",
              "      <th>caploss</th>\n",
              "      <th>workhr</th>\n",
              "      <th>work_ Federal-gov</th>\n",
              "      <th>work_ Local-gov</th>\n",
              "      <th>work_ Private</th>\n",
              "      <th>work_ Self-emp-inc</th>\n",
              "      <th>work_ Self-emp-not-inc</th>\n",
              "      <th>...</th>\n",
              "      <th>edu_ Prof-school</th>\n",
              "      <th>edu_ Some-college</th>\n",
              "      <th>relationship_ Husband</th>\n",
              "      <th>relationship_ Not-in-family</th>\n",
              "      <th>relationship_ Other-relative</th>\n",
              "      <th>relationship_ Own-child</th>\n",
              "      <th>relationship_ Unmarried</th>\n",
              "      <th>relationship_ Wife</th>\n",
              "      <th>sex_ Female</th>\n",
              "      <th>sex_ Male</th>\n",
              "    </tr>\n",
              "  </thead>\n",
              "  <tbody>\n",
              "    <tr>\n",
              "      <th>0</th>\n",
              "      <td>0.301370</td>\n",
              "      <td>0.800000</td>\n",
              "      <td>0.02174</td>\n",
              "      <td>0.0</td>\n",
              "      <td>0.397959</td>\n",
              "      <td>False</td>\n",
              "      <td>False</td>\n",
              "      <td>False</td>\n",
              "      <td>False</td>\n",
              "      <td>False</td>\n",
              "      <td>...</td>\n",
              "      <td>False</td>\n",
              "      <td>False</td>\n",
              "      <td>False</td>\n",
              "      <td>True</td>\n",
              "      <td>False</td>\n",
              "      <td>False</td>\n",
              "      <td>False</td>\n",
              "      <td>False</td>\n",
              "      <td>False</td>\n",
              "      <td>True</td>\n",
              "    </tr>\n",
              "    <tr>\n",
              "      <th>1</th>\n",
              "      <td>0.452055</td>\n",
              "      <td>0.800000</td>\n",
              "      <td>0.00000</td>\n",
              "      <td>0.0</td>\n",
              "      <td>0.122449</td>\n",
              "      <td>False</td>\n",
              "      <td>False</td>\n",
              "      <td>False</td>\n",
              "      <td>False</td>\n",
              "      <td>True</td>\n",
              "      <td>...</td>\n",
              "      <td>False</td>\n",
              "      <td>False</td>\n",
              "      <td>True</td>\n",
              "      <td>False</td>\n",
              "      <td>False</td>\n",
              "      <td>False</td>\n",
              "      <td>False</td>\n",
              "      <td>False</td>\n",
              "      <td>False</td>\n",
              "      <td>True</td>\n",
              "    </tr>\n",
              "    <tr>\n",
              "      <th>2</th>\n",
              "      <td>0.287671</td>\n",
              "      <td>0.533333</td>\n",
              "      <td>0.00000</td>\n",
              "      <td>0.0</td>\n",
              "      <td>0.397959</td>\n",
              "      <td>False</td>\n",
              "      <td>False</td>\n",
              "      <td>True</td>\n",
              "      <td>False</td>\n",
              "      <td>False</td>\n",
              "      <td>...</td>\n",
              "      <td>False</td>\n",
              "      <td>False</td>\n",
              "      <td>False</td>\n",
              "      <td>True</td>\n",
              "      <td>False</td>\n",
              "      <td>False</td>\n",
              "      <td>False</td>\n",
              "      <td>False</td>\n",
              "      <td>False</td>\n",
              "      <td>True</td>\n",
              "    </tr>\n",
              "  </tbody>\n",
              "</table>\n",
              "<p>3 rows × 57 columns</p>\n",
              "</div>\n",
              "    <div class=\"colab-df-buttons\">\n",
              "\n",
              "  <div class=\"colab-df-container\">\n",
              "    <button class=\"colab-df-convert\" onclick=\"convertToInteractive('df-e7b86a4c-c51f-45c0-ad22-4d4d2fc2ecfa')\"\n",
              "            title=\"Convert this dataframe to an interactive table.\"\n",
              "            style=\"display:none;\">\n",
              "\n",
              "  <svg xmlns=\"http://www.w3.org/2000/svg\" height=\"24px\" viewBox=\"0 -960 960 960\">\n",
              "    <path d=\"M120-120v-720h720v720H120Zm60-500h600v-160H180v160Zm220 220h160v-160H400v160Zm0 220h160v-160H400v160ZM180-400h160v-160H180v160Zm440 0h160v-160H620v160ZM180-180h160v-160H180v160Zm440 0h160v-160H620v160Z\"/>\n",
              "  </svg>\n",
              "    </button>\n",
              "\n",
              "  <style>\n",
              "    .colab-df-container {\n",
              "      display:flex;\n",
              "      gap: 12px;\n",
              "    }\n",
              "\n",
              "    .colab-df-convert {\n",
              "      background-color: #E8F0FE;\n",
              "      border: none;\n",
              "      border-radius: 50%;\n",
              "      cursor: pointer;\n",
              "      display: none;\n",
              "      fill: #1967D2;\n",
              "      height: 32px;\n",
              "      padding: 0 0 0 0;\n",
              "      width: 32px;\n",
              "    }\n",
              "\n",
              "    .colab-df-convert:hover {\n",
              "      background-color: #E2EBFA;\n",
              "      box-shadow: 0px 1px 2px rgba(60, 64, 67, 0.3), 0px 1px 3px 1px rgba(60, 64, 67, 0.15);\n",
              "      fill: #174EA6;\n",
              "    }\n",
              "\n",
              "    .colab-df-buttons div {\n",
              "      margin-bottom: 4px;\n",
              "    }\n",
              "\n",
              "    [theme=dark] .colab-df-convert {\n",
              "      background-color: #3B4455;\n",
              "      fill: #D2E3FC;\n",
              "    }\n",
              "\n",
              "    [theme=dark] .colab-df-convert:hover {\n",
              "      background-color: #434B5C;\n",
              "      box-shadow: 0px 1px 3px 1px rgba(0, 0, 0, 0.15);\n",
              "      filter: drop-shadow(0px 1px 2px rgba(0, 0, 0, 0.3));\n",
              "      fill: #FFFFFF;\n",
              "    }\n",
              "  </style>\n",
              "\n",
              "    <script>\n",
              "      const buttonEl =\n",
              "        document.querySelector('#df-e7b86a4c-c51f-45c0-ad22-4d4d2fc2ecfa button.colab-df-convert');\n",
              "      buttonEl.style.display =\n",
              "        google.colab.kernel.accessAllowed ? 'block' : 'none';\n",
              "\n",
              "      async function convertToInteractive(key) {\n",
              "        const element = document.querySelector('#df-e7b86a4c-c51f-45c0-ad22-4d4d2fc2ecfa');\n",
              "        const dataTable =\n",
              "          await google.colab.kernel.invokeFunction('convertToInteractive',\n",
              "                                                    [key], {});\n",
              "        if (!dataTable) return;\n",
              "\n",
              "        const docLinkHtml = 'Like what you see? Visit the ' +\n",
              "          '<a target=\"_blank\" href=https://colab.research.google.com/notebooks/data_table.ipynb>data table notebook</a>'\n",
              "          + ' to learn more about interactive tables.';\n",
              "        element.innerHTML = '';\n",
              "        dataTable['output_type'] = 'display_data';\n",
              "        await google.colab.output.renderOutput(dataTable, element);\n",
              "        const docLink = document.createElement('div');\n",
              "        docLink.innerHTML = docLinkHtml;\n",
              "        element.appendChild(docLink);\n",
              "      }\n",
              "    </script>\n",
              "  </div>\n",
              "\n",
              "\n",
              "<div id=\"df-8b73ed74-a732-4141-b5ad-e5729029e8ff\">\n",
              "  <button class=\"colab-df-quickchart\" onclick=\"quickchart('df-8b73ed74-a732-4141-b5ad-e5729029e8ff')\"\n",
              "            title=\"Suggest charts\"\n",
              "            style=\"display:none;\">\n",
              "\n",
              "<svg xmlns=\"http://www.w3.org/2000/svg\" height=\"24px\"viewBox=\"0 0 24 24\"\n",
              "     width=\"24px\">\n",
              "    <g>\n",
              "        <path d=\"M19 3H5c-1.1 0-2 .9-2 2v14c0 1.1.9 2 2 2h14c1.1 0 2-.9 2-2V5c0-1.1-.9-2-2-2zM9 17H7v-7h2v7zm4 0h-2V7h2v10zm4 0h-2v-4h2v4z\"/>\n",
              "    </g>\n",
              "</svg>\n",
              "  </button>\n",
              "\n",
              "<style>\n",
              "  .colab-df-quickchart {\n",
              "      --bg-color: #E8F0FE;\n",
              "      --fill-color: #1967D2;\n",
              "      --hover-bg-color: #E2EBFA;\n",
              "      --hover-fill-color: #174EA6;\n",
              "      --disabled-fill-color: #AAA;\n",
              "      --disabled-bg-color: #DDD;\n",
              "  }\n",
              "\n",
              "  [theme=dark] .colab-df-quickchart {\n",
              "      --bg-color: #3B4455;\n",
              "      --fill-color: #D2E3FC;\n",
              "      --hover-bg-color: #434B5C;\n",
              "      --hover-fill-color: #FFFFFF;\n",
              "      --disabled-bg-color: #3B4455;\n",
              "      --disabled-fill-color: #666;\n",
              "  }\n",
              "\n",
              "  .colab-df-quickchart {\n",
              "    background-color: var(--bg-color);\n",
              "    border: none;\n",
              "    border-radius: 50%;\n",
              "    cursor: pointer;\n",
              "    display: none;\n",
              "    fill: var(--fill-color);\n",
              "    height: 32px;\n",
              "    padding: 0;\n",
              "    width: 32px;\n",
              "  }\n",
              "\n",
              "  .colab-df-quickchart:hover {\n",
              "    background-color: var(--hover-bg-color);\n",
              "    box-shadow: 0 1px 2px rgba(60, 64, 67, 0.3), 0 1px 3px 1px rgba(60, 64, 67, 0.15);\n",
              "    fill: var(--button-hover-fill-color);\n",
              "  }\n",
              "\n",
              "  .colab-df-quickchart-complete:disabled,\n",
              "  .colab-df-quickchart-complete:disabled:hover {\n",
              "    background-color: var(--disabled-bg-color);\n",
              "    fill: var(--disabled-fill-color);\n",
              "    box-shadow: none;\n",
              "  }\n",
              "\n",
              "  .colab-df-spinner {\n",
              "    border: 2px solid var(--fill-color);\n",
              "    border-color: transparent;\n",
              "    border-bottom-color: var(--fill-color);\n",
              "    animation:\n",
              "      spin 1s steps(1) infinite;\n",
              "  }\n",
              "\n",
              "  @keyframes spin {\n",
              "    0% {\n",
              "      border-color: transparent;\n",
              "      border-bottom-color: var(--fill-color);\n",
              "      border-left-color: var(--fill-color);\n",
              "    }\n",
              "    20% {\n",
              "      border-color: transparent;\n",
              "      border-left-color: var(--fill-color);\n",
              "      border-top-color: var(--fill-color);\n",
              "    }\n",
              "    30% {\n",
              "      border-color: transparent;\n",
              "      border-left-color: var(--fill-color);\n",
              "      border-top-color: var(--fill-color);\n",
              "      border-right-color: var(--fill-color);\n",
              "    }\n",
              "    40% {\n",
              "      border-color: transparent;\n",
              "      border-right-color: var(--fill-color);\n",
              "      border-top-color: var(--fill-color);\n",
              "    }\n",
              "    60% {\n",
              "      border-color: transparent;\n",
              "      border-right-color: var(--fill-color);\n",
              "    }\n",
              "    80% {\n",
              "      border-color: transparent;\n",
              "      border-right-color: var(--fill-color);\n",
              "      border-bottom-color: var(--fill-color);\n",
              "    }\n",
              "    90% {\n",
              "      border-color: transparent;\n",
              "      border-bottom-color: var(--fill-color);\n",
              "    }\n",
              "  }\n",
              "</style>\n",
              "\n",
              "  <script>\n",
              "    async function quickchart(key) {\n",
              "      const quickchartButtonEl =\n",
              "        document.querySelector('#' + key + ' button');\n",
              "      quickchartButtonEl.disabled = true;  // To prevent multiple clicks.\n",
              "      quickchartButtonEl.classList.add('colab-df-spinner');\n",
              "      try {\n",
              "        const charts = await google.colab.kernel.invokeFunction(\n",
              "            'suggestCharts', [key], {});\n",
              "      } catch (error) {\n",
              "        console.error('Error during call to suggestCharts:', error);\n",
              "      }\n",
              "      quickchartButtonEl.classList.remove('colab-df-spinner');\n",
              "      quickchartButtonEl.classList.add('colab-df-quickchart-complete');\n",
              "    }\n",
              "    (() => {\n",
              "      let quickchartButtonEl =\n",
              "        document.querySelector('#df-8b73ed74-a732-4141-b5ad-e5729029e8ff button');\n",
              "      quickchartButtonEl.style.display =\n",
              "        google.colab.kernel.accessAllowed ? 'block' : 'none';\n",
              "    })();\n",
              "  </script>\n",
              "</div>\n",
              "\n",
              "    </div>\n",
              "  </div>\n"
            ],
            "application/vnd.google.colaboratory.intrinsic+json": {
              "type": "dataframe"
            }
          },
          "metadata": {},
          "execution_count": 20
        }
      ],
      "source": [
        "data[:3]\n"
      ]
    },
    {
      "cell_type": "markdown",
      "metadata": {
        "id": "HwjDg1uM1pqe"
      },
      "source": [
        "### Part (e) One-Hot Encoding [2 pt]\n",
        "\n",
        "The dataframe `data` contains the cleaned and normalized data that we will use to train our denoising autoencoder.\n",
        "\n",
        "How many **columns** (features) are in the dataframe `data`?\n",
        "\n",
        "Briefly explain where that number come from."
      ]
    },
    {
      "cell_type": "code",
      "execution_count": null,
      "metadata": {
        "colab": {
          "base_uri": "https://localhost:8080/"
        },
        "id": "yjZ5N0Tl1pqf",
        "jupyter": {
          "outputs_hidden": true
        },
        "outputId": "05326707-f3be-4ae0-e23a-7d8ef171a38a"
      },
      "outputs": [
        {
          "output_type": "stream",
          "name": "stdout",
          "text": [
            "Total columns in data:  57\n"
          ]
        }
      ],
      "source": [
        "total_cols_in_data = len(data.columns)\n",
        "print(\"Total columns in data: \",total_cols_in_data )"
      ]
    },
    {
      "cell_type": "markdown",
      "source": [
        "This Number comes from the data frame called data.. data was made using df_not_missing where it was converted using get_dummies that makes additional features (for columns that have words in them) and their outputs a boolean value. It doesn't affect features with numbers. This is why the features are a high number. For example, work has state-gov,private etc.. as values in the column (instead of values now, they will be converted as separate features and each of those features will have True/False underneath them."
      ],
      "metadata": {
        "id": "Ja45pYXMyC9R"
      }
    },
    {
      "cell_type": "markdown",
      "metadata": {
        "id": "OEJ0Ci3l1pqh"
      },
      "source": [
        "### Part (f) One-Hot Conversion [3 pt]\n",
        "\n",
        "We will convert the pandas data frame `data` into numpy, so that\n",
        "it can be further converted into a PyTorch tensor.\n",
        "However, in doing so, we lose the column label information that\n",
        "a panda data frame automatically stores.\n",
        "\n",
        "Complete the function `get_categorical_value` that will return\n",
        "the named value of a feature given a one-hot embedding.\n",
        "You may find the global variables `cat_index` and `cat_values`\n",
        "useful. (Display them and figure out what they are first.)\n",
        "\n",
        "We will need this function in the next part of the lab\n",
        "to interpret our autoencoder outputs. So, the input\n",
        "to our function `get_categorical_values` might not\n",
        "actually be \"one-hot\" -- the input may instead\n",
        "contain real-valued predictions from our neural network."
      ]
    },
    {
      "cell_type": "code",
      "execution_count": null,
      "metadata": {
        "id": "ZmovX6gu1pqi",
        "jupyter": {
          "outputs_hidden": true
        },
        "colab": {
          "base_uri": "https://localhost:8080/"
        },
        "outputId": "d6c3910d-ac57-4bb5-af92-a5a2cd98f428"
      },
      "outputs": [
        {
          "output_type": "stream",
          "name": "stdout",
          "text": [
            "[[0.30136988 0.8        0.02174022 ... 0.         0.         1.        ]\n",
            " [0.4520548  0.8        0.         ... 0.         0.         1.        ]\n",
            " [0.28767124 0.53333336 0.         ... 0.         0.         1.        ]\n",
            " ...\n",
            " [0.56164384 0.53333336 0.         ... 0.         1.         0.        ]\n",
            " [0.06849315 0.53333336 0.         ... 0.         0.         1.        ]\n",
            " [0.47945204 0.53333336 0.15024151 ... 1.         1.         0.        ]]\n"
          ]
        }
      ],
      "source": [
        "datanp = data.values.astype(np.float32)\n",
        "print(datanp)"
      ]
    },
    {
      "cell_type": "code",
      "execution_count": null,
      "metadata": {
        "id": "YRIa5MBd1pql",
        "jupyter": {
          "outputs_hidden": true
        },
        "colab": {
          "base_uri": "https://localhost:8080/"
        },
        "outputId": "f8629c1c-b4e1-4248-f670-6717652e27db"
      },
      "outputs": [
        {
          "output_type": "stream",
          "name": "stdout",
          "text": [
            "All Cat Index {'work': 5, 'marriage': 12, 'occupation': 19, 'edu': 33, 'relationship': 49, 'sex': 55}\n",
            "All Cat values {'work': ['Federal-gov', 'Local-gov', 'Private', 'Self-emp-inc', 'Self-emp-not-inc', 'State-gov', 'Without-pay'], 'marriage': ['Divorced', 'Married-AF-spouse', 'Married-civ-spouse', 'Married-spouse-absent', 'Never-married', 'Separated', 'Widowed'], 'occupation': ['Adm-clerical', 'Armed-Forces', 'Craft-repair', 'Exec-managerial', 'Farming-fishing', 'Handlers-cleaners', 'Machine-op-inspct', 'Other-service', 'Priv-house-serv', 'Prof-specialty', 'Protective-serv', 'Sales', 'Tech-support', 'Transport-moving'], 'edu': ['10th', '11th', '12th', '1st-4th', '5th-6th', '7th-8th', '9th', 'Assoc-acdm', 'Assoc-voc', 'Bachelors', 'Doctorate', 'HS-grad', 'Masters', 'Preschool', 'Prof-school', 'Some-college'], 'relationship': ['Husband', 'Not-in-family', 'Other-relative', 'Own-child', 'Unmarried', 'Wife'], 'sex': ['Female', 'Male']}\n",
            "get_onehot 1st row for work:  [0. 0. 0. 0. 1. 0. 0.]\n"
          ]
        }
      ],
      "source": [
        "cat_index = {}  # Mapping of feature -> start index of feature in a record\n",
        "cat_values = {} # Mapping of feature -> list of categorical values the feature can take\n",
        "\n",
        "# build up the cat_index and cat_values dictionary\n",
        "for i, header in enumerate(data.keys()):\n",
        "    if \"_\" in header: # categorical header\n",
        "        feature, value = header.split()\n",
        "        #print(feature)\n",
        "        #print(value)\n",
        "        #print(i)\n",
        "        feature = feature[:-1] # remove the last char; it is always an underscore\n",
        "        if feature not in cat_index:\n",
        "            cat_index[feature] = i # start index only\n",
        "            cat_values[feature] = [value]\n",
        "        else:\n",
        "            cat_values[feature].append(value)\n",
        "print(\"All Cat Index\", cat_index)\n",
        "print(\"All Cat values\", cat_values)\n",
        "def get_onehot(record, feature):\n",
        "    \"\"\"\n",
        "    Return the portion of `record` that is the one-hot encoding\n",
        "    of `feature`. For example, since the feature \"work\" is stored\n",
        "    in the indices [5:12] in each record, calling `get_range(record, \"work\")`\n",
        "    is equivalent to accessing `record[5:12]`.\n",
        "\n",
        "    Args:\n",
        "        - record: a numpy array representing one record, formatted\n",
        "                  the same way as a row in `data.np`\n",
        "        - feature: a string, should be an element of `catcols`\n",
        "    \"\"\"\n",
        "    start_index = cat_index[feature]\n",
        "    stop_index = cat_index[feature] + len(cat_values[feature])\n",
        "    return record[start_index:stop_index]\n",
        "print(\"get_onehot 1st row for work: \",get_onehot(datanp[1],\"work\")) # self_emp_not inc should be the one that is true in it, and have 1 in the 5th index\n",
        "def get_categorical_value(onehot, feature):\n",
        "    \"\"\"\n",
        "    Return the categorical value name of a feature given\n",
        "    a one-hot vector representing the feature.\n",
        "\n",
        "    Args:\n",
        "        - onehot: a numpy array one-hot representation of the feature # This for a specific record or row\n",
        "        - feature: a string, should be an element of `catcols`\n",
        "\n",
        "    Examples:\n",
        "\n",
        "    >>> get_categorical_value(np.array([0., 0., 0., 0., 0., 1., 0.]), \"work\")\n",
        "    'State-gov'\n",
        "    >>> get_categorical_value(np.array([0.1, 0., 1.1, 0.2, 0., 1., 0.]), \"work\")\n",
        "    'Private'\n",
        "    \"\"\"\n",
        "    # <----- TODO: WRITE YOUR CODE HERE ----->\n",
        "    # You may find the variables `cat_index` and `cat_values`\n",
        "    # (created above) useful.\n",
        "    #all_feature_types =cat_values[feature]\n",
        "    #Find the index where the maximum number in the oneHot array occurs.\n",
        "    indexOfMaxValue = np.argmax(onehot)\n",
        "    specific_category = cat_values[feature][indexOfMaxValue]\n",
        "    return specific_category"
      ]
    },
    {
      "cell_type": "code",
      "source": [
        "#Rough work\n",
        "np.argmax(np.array([0.1, 0., 1.1, 0.2, 0., 1., 0.]))\n",
        "# This gives at index 2, the maximum value is found  which is 1.1"
      ],
      "metadata": {
        "colab": {
          "base_uri": "https://localhost:8080/"
        },
        "id": "8hwZN4fE9ZOB",
        "outputId": "c00f87ec-9918-4286-e106-9768d440755c"
      },
      "execution_count": null,
      "outputs": [
        {
          "output_type": "execute_result",
          "data": {
            "text/plain": [
              "2"
            ]
          },
          "metadata": {},
          "execution_count": 24
        }
      ]
    },
    {
      "cell_type": "code",
      "source": [
        "# Rough work\n",
        "cat_values[\"work\"][2]"
      ],
      "metadata": {
        "colab": {
          "base_uri": "https://localhost:8080/",
          "height": 36
        },
        "id": "54glIhon9_4U",
        "outputId": "256328c5-c179-4872-9cf3-2a6ff437fe55"
      },
      "execution_count": null,
      "outputs": [
        {
          "output_type": "execute_result",
          "data": {
            "text/plain": [
              "'Private'"
            ],
            "application/vnd.google.colaboratory.intrinsic+json": {
              "type": "string"
            }
          },
          "metadata": {},
          "execution_count": 25
        }
      ]
    },
    {
      "cell_type": "code",
      "execution_count": null,
      "metadata": {
        "collapsed": true,
        "id": "T_XXxZdh1pqv",
        "jupyter": {
          "outputs_hidden": true
        }
      },
      "outputs": [],
      "source": [
        "# more useful code, used during training, that depends on the function\n",
        "# you write above\n",
        "\n",
        "def get_feature(record, feature):\n",
        "    \"\"\"\n",
        "    Return the categorical feature value of a record\n",
        "    \"\"\"\n",
        "    onehot = get_onehot(record, feature)\n",
        "    return get_categorical_value(onehot, feature)\n",
        "\n",
        "def get_features(record):\n",
        "    \"\"\"\n",
        "    Return a dictionary of all categorical feature values of a record\n",
        "    \"\"\"\n",
        "    return { f: get_feature(record, f) for f in catcols }"
      ]
    },
    {
      "cell_type": "code",
      "source": [
        "print(get_feature(datanp[1], \"work\"))\n",
        "# The above matches what is in the 1st row starting at index 0\n",
        "print(get_features(datanp[1]))"
      ],
      "metadata": {
        "colab": {
          "base_uri": "https://localhost:8080/"
        },
        "id": "inUYeTRU-bZS",
        "outputId": "99b75544-be36-4163-c2cc-955de1515d21"
      },
      "execution_count": null,
      "outputs": [
        {
          "output_type": "stream",
          "name": "stdout",
          "text": [
            "Self-emp-not-inc\n",
            "{'work': 'Self-emp-not-inc', 'marriage': 'Married-civ-spouse', 'occupation': 'Exec-managerial', 'edu': 'Bachelors', 'relationship': 'Husband', 'sex': 'Male'}\n"
          ]
        }
      ]
    },
    {
      "cell_type": "markdown",
      "metadata": {
        "id": "1_5ZZR_J1pqy"
      },
      "source": [
        "### Part (g) Train/Test Split [3 pt]\n",
        "\n",
        "Randomly split the data into approximately 70% training, 15% validation and 15% test.\n",
        "\n",
        "Report the number of items in your training, validation, and test set."
      ]
    },
    {
      "cell_type": "code",
      "execution_count": null,
      "metadata": {
        "id": "TE_fTJJf1pqz",
        "jupyter": {
          "outputs_hidden": true
        },
        "colab": {
          "base_uri": "https://localhost:8080/"
        },
        "outputId": "4dd071d6-0093-493c-df5b-30e8ace7278a"
      },
      "outputs": [
        {
          "output_type": "stream",
          "name": "stdout",
          "text": [
            "total records:  30718\n",
            "Train Data Shape: (21502, 57)\n",
            "Val Data Shape: (4608, 57)\n",
            "Test Data Shape: (4608, 57)\n",
            "Number of Rows or Records in Train:  21502 Percent:  0.6999804674783514  %\n",
            "Number of Rows or Records in Val:  4608 Percent:  0.15000976626082427  %\n",
            "Number of Rows or Records in Test:  4608 Percent:  0.15000976626082427  %\n"
          ]
        }
      ],
      "source": [
        "# set the numpy seed for reproducibility\n",
        "# https://docs.scipy.org/doc/numpy/reference/generated/numpy.random.seed.html\n",
        "np.random.seed(50)\n",
        "# Number of Rows\n",
        "print(\"total records: \", data.shape[0])\n",
        "total_records = data.shape[0]\n",
        "#Ending Rows Maximum\n",
        "train_percent = 0.7\n",
        "val_percent = 0.15 + 0.7  # gives leftover 15%\n",
        "test_percent = 1 #last amount left\n",
        "#print(train_percent*total_records)\n",
        "max_train_row = math.floor(train_percent*total_records)\n",
        "#print(val_percent*total_records)\n",
        "max_val_row = math.floor(val_percent*total_records)\n",
        "max_test_row = total_records\n",
        "#print(test_percent*total_records)\n",
        "# not including the last row eg [inc: not_including]\n",
        "train_data_records = datanp[0:max_train_row]\n",
        "val_data_records = datanp[max_train_row:max_val_row]\n",
        "test_data_records = datanp[max_val_row: total_records]\n",
        "print(\"Train Data Shape:\", train_data_records.shape)\n",
        "print(\"Val Data Shape:\", val_data_records.shape)\n",
        "print(\"Test Data Shape:\", test_data_records.shape)\n",
        "print(\"Number of Rows or Records in Train: \",train_data_records.shape[0], \"Percent: \",train_data_records.shape[0]/total_records, \" %\" )\n",
        "print(\"Number of Rows or Records in Val: \", val_data_records.shape[0], \"Percent: \", val_data_records.shape[0]/total_records, \" %\")\n",
        "print(\"Number of Rows or Records in Test: \",test_data_records.shape[0], \"Percent: \", test_data_records.shape[0]/total_records, \" %\")\n"
      ]
    },
    {
      "cell_type": "markdown",
      "metadata": {
        "id": "h9wJAKOI1pq3"
      },
      "source": [
        "## Part 2. Model Setup [5 pt]\n",
        "\n",
        "### Part (a) [4 pt]\n",
        "\n",
        "Design a fully-connected autoencoder by modifying the `encoder` and `decoder`\n",
        "below.\n",
        "\n",
        "The input to this autoencoder will be the features of the `data`, with\n",
        "one categorical feature recorded as \"missing\". The output of the autoencoder\n",
        "should be the reconstruction of the same features, but with the missing\n",
        "value filled in.\n",
        "\n",
        "**Note**: Do not reduce the dimensionality of the input too much!\n",
        "The output of your embedding is expected to contain information\n",
        "about ~11 features."
      ]
    },
    {
      "cell_type": "code",
      "execution_count": null,
      "metadata": {
        "collapsed": true,
        "id": "f3F--tdn1pq3",
        "jupyter": {
          "outputs_hidden": true
        }
      },
      "outputs": [],
      "source": [
        "from torch import nn\n",
        "\n",
        "class AutoEncoder(nn.Module):\n",
        "    def __init__(self):\n",
        "        super(AutoEncoder, self).__init__()\n",
        "        self.name = \"AutoEncoder\"\n",
        "        self.encoder = nn.Sequential(\n",
        "            nn.Linear(57, 39),\n",
        "            nn.ReLU(),\n",
        "            nn.Linear(39, 11)\n",
        "\n",
        "        )\n",
        "        self.decoder = nn.Sequential(\n",
        "            nn.Linear(11, 39),\n",
        "            nn.ReLU(),\n",
        "            nn.Linear(39, 57),\n",
        "            nn.Sigmoid() # get to the range (0, 1)\n",
        "        )\n",
        "\n",
        "    def forward(self, x):\n",
        "        x = self.encoder(x)\n",
        "        x = self.decoder(x)\n",
        "        return x"
      ]
    },
    {
      "cell_type": "markdown",
      "metadata": {
        "id": "kuEzTSAv1pq6"
      },
      "source": [
        "### Part (b) [1 pt]\n",
        "\n",
        "Explain why there is a sigmoid activation in the last step of the decoder.\n",
        "\n",
        "(**Note**: the values inside the data frame `data` and the training code in Part 3 might be helpful.)"
      ]
    },
    {
      "cell_type": "markdown",
      "source": [
        "There is a sigmoid activation in the last step of the decoder to ensure the output is between 0 to 1. The autoencoder must be able to predict the missing data in the table (which is currenty made of 0 and 1). One function that can achieve this is: a sigmoid function which outputs a value between 0 and 1 (as seen from its graph). This output will then be used to fill in the missing value in the data dataFrame."
      ],
      "metadata": {
        "id": "Gq_rNPKmK-yu"
      }
    },
    {
      "cell_type": "markdown",
      "metadata": {
        "id": "jYwqFWVl1pq8"
      },
      "source": [
        "## Part 3. Training [18]\n",
        "\n",
        "### Part (a) [6 pt]\n",
        "\n",
        "We will train our autoencoder in the following way:\n",
        "\n",
        "- In each iteration, we will hide one of the categorical features using the `zero_out_random_features` function\n",
        "- We will pass the data with one missing feature through the autoencoder, and obtain a reconstruction\n",
        "- We will check how close the reconstruction is compared to the original data -- including the value of the missing feature\n",
        "\n",
        "Complete the code to train the autoencoder, and plot the training and validation loss every few iterations.\n",
        "You may also want to plot training and validation \"accuracy\" every few iterations, as we will define in\n",
        "part (b). You may also want to checkpoint your model every few iterations or epochs.\n",
        "\n",
        "Use `nn.MSELoss()` as your loss function. (Side note: you might recognize that this loss function is not\n",
        "ideal for this problem, but we will use it anyway.)"
      ]
    },
    {
      "cell_type": "code",
      "execution_count": null,
      "metadata": {
        "collapsed": true,
        "id": "IDQA_-dS1pq9",
        "jupyter": {
          "outputs_hidden": true
        }
      },
      "outputs": [],
      "source": [
        "def zero_out_feature(records, feature):\n",
        "    \"\"\" Set the feature missing in records, by setting the appropriate\n",
        "    columns of records to 0\n",
        "    \"\"\"\n",
        "    start_index = cat_index[feature]\n",
        "    stop_index = cat_index[feature] + len(cat_values[feature])\n",
        "    records[:, start_index:stop_index] = 0\n",
        "    return records\n",
        "\n",
        "def zero_out_random_feature(records):\n",
        "    \"\"\" Set one random feature missing in records, by setting the\n",
        "    appropriate columns of records to 0\n",
        "    \"\"\"\n",
        "    return zero_out_feature(records, random.choice(catcols))\n",
        "\n",
        "def calculate_val_loss(model, val_loader, criterion):\n",
        "  val_loss = 0.0 # total val loss\n",
        "  for index, data in enumerate(val_loader, 0):\n",
        "                 #labels multiple\n",
        "    input_values = zero_out_random_feature(data.clone())\n",
        "    resutants = model(input_values)\n",
        "    #Labels already normalized here since 0 or 1 conversion to values? or does one need to normalize them, why does one need to normalize?\n",
        "                    #labels\n",
        "    #norm_labels = (label -  torch.min(label))/(torch.max(label) - torch.min(label))\n",
        "    loss = criterion(resutants, data)\n",
        "    val_loss += loss.item()\n",
        "\n",
        "  avg_val_loss = val_loss / (index + 1)\n",
        "\n",
        "  return avg_val_loss\n",
        "\n",
        "def get_model_name(name, learning_rate, epoch):\n",
        "\n",
        "    path = \"model_{0}_lr{1}_epoch{2}\".format(name,learning_rate,epoch)\n",
        "    return path\n",
        "import time\n",
        "import matplotlib.pyplot as plt\n",
        "def train(model, train_loader, valid_loader, num_epochs=5, learning_rate=1e-4):\n",
        "    \"\"\" Training loop. You should update this.\"\"\"\n",
        "    torch.manual_seed(42)\n",
        "    criterion = nn.MSELoss()\n",
        "    optimizer = torch.optim.Adam(model.parameters(), lr=learning_rate)\n",
        "    n = 0\n",
        "    train_accuracy = []\n",
        "    val_accuracy = []\n",
        "    iteration_count = []\n",
        "    val_loss_per_data = []\n",
        "    train_loss = np.zeros(num_epochs)\n",
        "    val_loss = np.zeros(num_epochs)\n",
        "    start_time = time.time()\n",
        "    epoch_x_axis = np.zeros(num_epochs)\n",
        "    for epoch in range(num_epochs):\n",
        "        i = 0\n",
        "        train_loss_per_data = 0.0\n",
        "        for data in train_loader:\n",
        "            datam = zero_out_random_feature(data.clone()) # zero out one categorical feature\n",
        "            recon = model(datam)\n",
        "            loss = criterion(recon, data)\n",
        "            loss.backward()\n",
        "            optimizer.step()\n",
        "            optimizer.zero_grad()\n",
        "            #Number of iterations\n",
        "            iteration_count.append(n)\n",
        "            train_loss_per_data += loss.item()\n",
        "            n += 1\n",
        "            i += 1\n",
        "        train_accuracy.append(get_accuracy(model, train_loader))\n",
        "        val_accuracy.append(get_accuracy(model, valid_loader))\n",
        "        val_loss[epoch] = calculate_val_loss(model, valid_loader,criterion)\n",
        "        train_loss[epoch] = float(train_loss_per_data) / (i)\n",
        "        model_path = get_model_name(model.name, learning_rate, epoch)\n",
        "        torch.save(model.state_dict(), model_path)\n",
        "        print((\"Epoch {}: |Train loss: {} |\"+\n",
        "               \"Validation loss : {} |, Train Accuracy: {}, |Validation Accuracy: {}\").format(\n",
        "                   epoch + 1,\n",
        "                   train_loss[epoch],\n",
        "                   val_loss[epoch],\n",
        "                   train_accuracy[epoch],\n",
        "                   val_accuracy[epoch]\n",
        "                   ))\n",
        "        epoch_x_axis[epoch] = epoch + 1\n",
        "\n",
        "    print('Finished Training')\n",
        "    end_time = time.time()\n",
        "    elapsed_time = end_time - start_time\n",
        "    print(\"Total time elapsed: {:.2f} seconds\".format(elapsed_time))\n",
        "    #print( \"\\nTrain Loss : \", train_loss, \"\\nVal loss: \", val_loss, \"\\nTrain Accuracy: \", train_accuracy, \"\\nVal Accuracy: \", val_accuracy)\n",
        "    plot_train_val_acc_loss(epoch_x_axis,train_loss, val_loss, train_accuracy, val_accuracy)\n",
        "\n"
      ]
    },
    {
      "cell_type": "markdown",
      "metadata": {
        "id": "WKk01pwx1pq_"
      },
      "source": [
        "### Part (b) [3 pt]\n",
        "\n",
        "While plotting training and validation loss is valuable, loss values are harder to compare\n",
        "than accuracy percentages. It would be nice to have a measure of \"accuracy\" in this problem.\n",
        "\n",
        "Since we will only be imputing missing categorical values, we will define an accuracy measure.\n",
        "For each record and for each categorical feature, we determine whether\n",
        "the model can predict the categorical feature given all the other features of the record.\n",
        "\n",
        "A function `get_accuracy` is written for you. It is up to you to figure out how to\n",
        "use the function. **You don't need to submit anything in this part.**\n",
        "To earn the marks, correctly plot the training and validation accuracy every few\n",
        "iterations as part of your training curve."
      ]
    },
    {
      "cell_type": "code",
      "execution_count": null,
      "metadata": {
        "collapsed": true,
        "id": "bHWLfCzM1pq_",
        "jupyter": {
          "outputs_hidden": true
        }
      },
      "outputs": [],
      "source": [
        "def get_accuracy(model, data_loader):\n",
        "    \"\"\"Return the \"accuracy\" of the autoencoder model across a data set.\n",
        "    That is, for each record and for each categorical feature,\n",
        "    we determine whether the model can successfully predict the value\n",
        "    of the categorical feature given all the other features of the\n",
        "    record. The returned \"accuracy\" measure is the percentage of times\n",
        "    that our model is successful.\n",
        "\n",
        "    Args:\n",
        "       - model: the autoencoder model, an instance of nn.Module\n",
        "       - data_loader: an instance of torch.utils.data.DataLoader\n",
        "\n",
        "    Example (to illustrate how get_accuracy is intended to be called.\n",
        "             Depending on your variable naming this code might require\n",
        "             modification.)\n",
        "\n",
        "        >>> model = AutoEncoder()\n",
        "        >>> vdl = torch.utils.data.DataLoader(data_valid, batch_size=256, shuffle=True)\n",
        "        >>> get_accuracy(model, vdl)\n",
        "    \"\"\"\n",
        "    total = 0\n",
        "    acc = 0\n",
        "    for col in catcols:\n",
        "        for item in data_loader: # minibatches\n",
        "            inp = item.detach().numpy()\n",
        "            out = model(zero_out_feature(item.clone(), col)).detach().numpy()\n",
        "            for i in range(out.shape[0]): # record in minibatch\n",
        "                acc += int(get_feature(out[i], col) == get_feature(inp[i], col))\n",
        "                total += 1\n",
        "    return acc / total"
      ]
    },
    {
      "cell_type": "code",
      "source": [
        "## Plot the the curves\n",
        "\n",
        "def plot_train_val_acc_loss(epoch_x_axis,train_loss, val_loss, train_accuracy, val_accuracy):\n",
        "   # plotting\n",
        "    plt.title(\"Training and Validation Loss\")\n",
        "    plt.plot(epoch_x_axis, train_loss, label=\"Train\")\n",
        "    plt.plot(epoch_x_axis, val_loss, label=\"Validation\")\n",
        "    plt.xlabel(\"Epochs\")\n",
        "    plt.ylabel(\"Loss\")\n",
        "    plt.legend(loc='best')\n",
        "    plt.show()\n",
        "    # Plot train and val accuracy for each iteration\n",
        "    plt.title(\"Training and Validation Accuracy\")\n",
        "    plt.plot(epoch_x_axis, train_accuracy, label=\"Train\")\n",
        "    plt.plot(epoch_x_axis, val_accuracy, label=\"Validation\")\n",
        "    plt.xlabel(\"Epochs\")\n",
        "    plt.ylabel(\"Training Accuracy\")\n",
        "    plt.legend(loc='best')\n",
        "    plt.show()\n",
        "\n",
        "    print(\"Final Training Accuracy: {}\".format(train_accuracy[-1]))\n",
        "    print(\"Final Validation Accuracy: {}\".format(val_accuracy[-1]))\n",
        "    print(\"Final Training Loss: {}\".format(train_loss[-1]))\n",
        "    print(\"Final Validation Loss: {}\".format(val_loss[-1]))"
      ],
      "metadata": {
        "id": "jg_TEQLzc_wq"
      },
      "execution_count": null,
      "outputs": []
    },
    {
      "cell_type": "markdown",
      "metadata": {
        "id": "SxCTlXoV1prB"
      },
      "source": [
        "### Part (c) [4 pt]\n",
        "\n",
        "Run your updated training code, using reasonable initial hyperparameters.\n",
        "\n",
        "Include your training curve in your submission."
      ]
    },
    {
      "cell_type": "markdown",
      "source": [
        "_______________________\n",
        "Hyperparameters used:\n",
        "\n",
        "*   Learning Rate = 1e-4 (default)\n",
        "*   Batch Size = 32\n",
        "*   Num_epochs = 30\n",
        "*  original number of layers in the autoencoder/ decoder\n",
        "\n",
        "\n",
        "\n",
        "\n",
        "\n",
        "\n",
        "\n"
      ],
      "metadata": {
        "id": "F2RjJtmp0TdG"
      }
    },
    {
      "cell_type": "code",
      "execution_count": null,
      "metadata": {
        "id": "nj5b71l-1prC",
        "jupyter": {
          "outputs_hidden": true
        },
        "colab": {
          "base_uri": "https://localhost:8080/",
          "height": 1000
        },
        "outputId": "cdfd1a43-b67c-4099-eec5-df04bfa49805"
      },
      "outputs": [
        {
          "output_type": "stream",
          "name": "stdout",
          "text": [
            "Epoch 1: |Train loss: 0.13770043436393498 |Validation loss : 0.1825449300701158 |, Train Accuracy: 0.4369205965336558, |Validation Accuracy: 0.43601707175925924\n",
            "Epoch 2: |Train loss: 0.07040521728673152 |Validation loss : 0.17474902623839544 |, Train Accuracy: 0.46079434471211983, |Validation Accuracy: 0.4597800925925926\n",
            "Epoch 3: |Train loss: 0.06492392582974087 |Validation loss : 0.15011269599199295 |, Train Accuracy: 0.5141227172666109, |Validation Accuracy: 0.5143952546296297\n",
            "Epoch 4: |Train loss: 0.05665005701372311 |Validation loss : 0.13983235449383133 |, Train Accuracy: 0.5329814280842092, |Validation Accuracy: 0.5323350694444444\n",
            "Epoch 5: |Train loss: 0.05409060842135832 |Validation loss : 0.13352735824229425 |, Train Accuracy: 0.5516076023935758, |Validation Accuracy: 0.5489004629629629\n",
            "Epoch 6: |Train loss: 0.05058224089000197 |Validation loss : 0.12226465252930657 |, Train Accuracy: 0.5629321303444641, |Validation Accuracy: 0.5607277199074074\n",
            "Epoch 7: |Train loss: 0.04603614694150608 |Validation loss : 0.11324318341518703 |, Train Accuracy: 0.5715049762812762, |Validation Accuracy: 0.5708188657407407\n",
            "Epoch 8: |Train loss: 0.04297935949372394 |Validation loss : 0.10634609717026092 |, Train Accuracy: 0.5801553343874989, |Validation Accuracy: 0.5805844907407407\n",
            "Epoch 9: |Train loss: 0.04020452846972538 |Validation loss : 0.09950980125812062 |, Train Accuracy: 0.5940300127119957, |Validation Accuracy: 0.5954499421296297\n",
            "Epoch 10: |Train loss: 0.037920147682251854 |Validation loss : 0.094584183636726 |, Train Accuracy: 0.5997271571636748, |Validation Accuracy: 0.6010923032407407\n",
            "Epoch 11: |Train loss: 0.03648595884996688 |Validation loss : 0.09149142639025261 |, Train Accuracy: 0.6035097510309119, |Validation Accuracy: 0.6060474537037037\n",
            "Epoch 12: |Train loss: 0.0354361936444461 |Validation loss : 0.08898964527536903 |, Train Accuracy: 0.6058351161132298, |Validation Accuracy: 0.6072410300925926\n",
            "Epoch 13: |Train loss: 0.03467451172625823 |Validation loss : 0.087263421890767 |, Train Accuracy: 0.6046879360059529, |Validation Accuracy: 0.6058304398148148\n",
            "Epoch 14: |Train loss: 0.033672918643181525 |Validation loss : 0.08470953664366614 |, Train Accuracy: 0.6071683254270921, |Validation Accuracy: 0.6096281828703703\n",
            "Epoch 15: |Train loss: 0.032812477580072094 |Validation loss : 0.08179850967829688 |, Train Accuracy: 0.6081372275447245, |Validation Accuracy: 0.6098451967592593\n",
            "Epoch 16: |Train loss: 0.031678538472901675 |Validation loss : 0.07934879678252496 |, Train Accuracy: 0.6071295693423867, |Validation Accuracy: 0.6087601273148148\n",
            "Epoch 17: |Train loss: 0.030704963686210767 |Validation loss : 0.07704164149860541 |, Train Accuracy: 0.6074396180200291, |Validation Accuracy: 0.6093388310185185\n",
            "Epoch 18: |Train loss: 0.02976088372746571 |Validation loss : 0.07496198456276927 |, Train Accuracy: 0.6085092859578954, |Validation Accuracy: 0.6096281828703703\n",
            "Epoch 19: |Train loss: 0.028743340966424773 |Validation loss : 0.07296985825687125 |, Train Accuracy: 0.6089511053235358, |Validation Accuracy: 0.6093388310185185\n",
            "Epoch 20: |Train loss: 0.027977790751416858 |Validation loss : 0.07120888745575621 |, Train Accuracy: 0.6069745450035655, |Validation Accuracy: 0.6059751157407407\n",
            "Epoch 21: |Train loss: 0.027410179243556092 |Validation loss : 0.06985728357706153 |, Train Accuracy: 0.6088038322016557, |Validation Accuracy: 0.6068431712962963\n",
            "Epoch 22: |Train loss: 0.026689369505870024 |Validation loss : 0.06793089485482166 |, Train Accuracy: 0.6100440269122253, |Validation Accuracy: 0.6082537615740741\n",
            "Epoch 23: |Train loss: 0.026081847258388906 |Validation loss : 0.06631960268867643 |, Train Accuracy: 0.6097262270176418, |Validation Accuracy: 0.6074580439814815\n",
            "Epoch 24: |Train loss: 0.025420954385827782 |Validation loss : 0.06472354375740938 |, Train Accuracy: 0.6092689052181193, |Validation Accuracy: 0.6067346643518519\n",
            "Epoch 25: |Train loss: 0.024867353836140995 |Validation loss : 0.06317005541763808 |, Train Accuracy: 0.6090983784454159, |Validation Accuracy: 0.6076750578703703\n",
            "Epoch 26: |Train loss: 0.02434286226413124 |Validation loss : 0.061733105987833256 |, Train Accuracy: 0.6088270858524788, |Validation Accuracy: 0.6071325231481481\n",
            "Epoch 27: |Train loss: 0.02412953863330629 |Validation loss : 0.06146862272892082 |, Train Accuracy: 0.6086875639475398, |Validation Accuracy: 0.6073133680555556\n",
            "Epoch 28: |Train loss: 0.023646120334021924 |Validation loss : 0.06067116519338206 |, Train Accuracy: 0.6086410566458934, |Validation Accuracy: 0.6072410300925926\n",
            "Epoch 29: |Train loss: 0.02318521059351042 |Validation loss : 0.0595549477525709 |, Train Accuracy: 0.6064629646854556, |Validation Accuracy: 0.6057219328703703\n",
            "Epoch 30: |Train loss: 0.023085676025532718 |Validation loss : 0.058670395331686005 |, Train Accuracy: 0.6084937835240133, |Validation Accuracy: 0.6072771990740741\n",
            "Finished Training\n",
            "Total time elapsed: 534.96 seconds\n"
          ]
        },
        {
          "output_type": "display_data",
          "data": {
            "text/plain": [
              "<Figure size 640x480 with 1 Axes>"
            ],
            "image/png": "[encoded data removed]"
          },
          "metadata": {}
        },
        {
          "output_type": "display_data",
          "data": {
            "text/plain": [
              "<Figure size 640x480 with 1 Axes>"
            ],
            "image/png": "[encoded data removed]"
          },
          "metadata": {}
        },
        {
          "output_type": "stream",
          "name": "stdout",
          "text": [
            "Final Training Accuracy: 0.6084937835240133\n",
            "Final Validation Accuracy: 0.6072771990740741\n",
            "Final Training Loss: 0.023085676025532718\n",
            "Final Validation Loss: 0.058670395331686005\n"
          ]
        }
      ],
      "source": [
        "#num_workers=1\n",
        "train_loader = torch.utils.data.DataLoader(train_data_records,batch_size = 32,shuffle=True, num_workers=1)\n",
        "val_loader = torch.utils.data.DataLoader(val_data_records,batch_size = 32,shuffle=True,num_workers=1)\n",
        "model_autoencoder = AutoEncoder()\n",
        "\n",
        "train(model_autoencoder, train_loader, val_loader, num_epochs=30)"
      ]
    },
    {
      "cell_type": "markdown",
      "metadata": {
        "id": "h9xTwIf51prF"
      },
      "source": [
        "### Part (d) [5 pt]\n",
        "\n",
        "Tune your hyperparameters, training at least 4 different models (4 sets of hyperparameters).\n",
        "\n",
        "Do not include all your training curves. Instead, explain what hyperparameters\n",
        "you tried, what their effect was, and what your thought process was as you\n",
        "chose the next set of hyperparameters to try."
      ]
    },
    {
      "cell_type": "markdown",
      "source": [
        "_________________\n",
        "Attempt Model # 1:\n",
        "The model in part c  Validation and training accuracy reached a plateau but are closely follwing each other. This means that the model is not overfitted yet but it is not improving.\n",
        "Number of epochs are increased to see if the plateau is overcome. (learning rate will be changd in attempt # 2 if the model still can't overcome the plateau for train or val accuracy)\n",
        "\n",
        "Hyperparameters used:\n",
        "\n",
        "*   Learning Rate = 1e-4 (default)\n",
        "*   Batch Size = 32\n",
        "*   Num_epochs = 200\n",
        "*  original number of layers in the autoencoder/ decoder\n",
        "\n",
        "\n",
        "Effect after running the code:\n",
        "\n",
        "\n",
        "The model_autoencoder_v1 took very long to train. The train and val accuracy curves are following each other and are not overfitted yet. More epochs are needed at this rate but with more train time. The train_and val accuracy appear to increase.\n",
        "\n",
        "This may be because the learning_rate was very small, thus taking smaller steps to reach the optimal values and more time.\n",
        "\n",
        "Results:\n",
        "\n",
        "\n",
        "\n",
        "* Final Training Accuracy: 0.6582023377670294\n",
        "* Final Validation Accuracy: 0.6553096064814815\n",
        "* Final Training Loss: 0.012412942051014397\n",
        "* Final Validation Loss: 0.03112315210072618\n"
      ],
      "metadata": {
        "id": "csEI6JVy0xoV"
      }
    },
    {
      "cell_type": "code",
      "source": [
        "train_loader = torch.utils.data.DataLoader(train_data_records,batch_size = 32,shuffle=True, num_workers=1)\n",
        "val_loader = torch.utils.data.DataLoader(val_data_records,batch_size = 32,shuffle=True,num_workers=1)\n",
        "model_autoencoder_v1 = AutoEncoder()\n",
        "\n",
        "train(model_autoencoder_v1, train_loader, val_loader, num_epochs=200)"
      ],
      "metadata": {
        "id": "aIAt4EcwtySt"
      },
      "execution_count": null,
      "outputs": []
    },
    {
      "cell_type": "markdown",
      "source": [
        "Attempt Model # 2:\n",
        "\n",
        "To speed up training and allow for slightly larger steps to be taken (and a learning rate of 0.1 was attempted but was instantly overfitted within 5 epochs as the curve was a horizontal line). So, the learning_rate that is chosen as 0.001.\n",
        "The number of epochs are also lowered due to increasing the learning_rate.\n",
        "\n",
        "Hyperparameters used:\n",
        "\n",
        "*   Learning Rate = 0.001\n",
        "*   Batch Size = 32\n",
        "*   Num_epochs = 121\n",
        "*  original number of layers in the autoencoder/ decoder\n",
        "\n",
        "\n",
        "Effect after running the code:\n",
        "Accuracy Improved.\n",
        "Increasing the learning rate and decreasing the epochs took a little less time to train.\n",
        "Increasing the learning rate allowed the graph to take larger steps to reach the global optimum during gradient descent\n",
        "\n",
        "Accuray is better than attempt 1.  \n",
        "* Final Training Accuracy: 0.7138638266207794\n",
        "* Final Validation Accuracy: 0.7084056712962963\n",
        "* Final Training Loss: 0.008634919831820298\n",
        "* Final Validation Loss: 0.022882014611049703\n",
        "\n"
      ],
      "metadata": {
        "id": "YPz4QD9y19BX"
      }
    },
    {
      "cell_type": "code",
      "source": [
        "train_loader = torch.utils.data.DataLoader(train_data_records,batch_size = 32,shuffle=True, num_workers=1)\n",
        "val_loader = torch.utils.data.DataLoader(val_data_records,batch_size = 32,shuffle=True,num_workers=1)\n",
        "model_autoencoder_v2 = AutoEncoder()\n",
        "\n",
        "train(model_autoencoder_v2, train_loader, val_loader, learning_rate=0.001, num_epochs=121)"
      ],
      "metadata": {
        "id": "cjZKTKMkt112"
      },
      "execution_count": null,
      "outputs": []
    },
    {
      "cell_type": "markdown",
      "source": [
        "Attempt Model # 3:\n",
        "\n",
        "Increase the batch_size to 64.\n",
        "\n",
        "Hyperparameters used:\n",
        "\n",
        "*   Learning Rate = 0.001\n",
        "*   Batch Size = 64\n",
        "*   Num_epochs = 121\n",
        "*  original number of layers in the autoencoder/ decoder\n",
        "\n",
        "\n",
        "Effect after running the code:\n",
        "* Final Training Accuracy: 0.6385995101230894\n",
        "* Final Validation Accuracy: 0.6307870370370371\n",
        "* Final Training Loss: 0.016105589237884573\n",
        "* Final Validation Loss: 0.021426212957553696\n",
        "\n",
        "Increasing the batch_size decreased the validation and train accuracy.\n",
        "The model is still underfitted\n",
        "\n"
      ],
      "metadata": {
        "id": "2qJkCpW22FCm"
      }
    },
    {
      "cell_type": "code",
      "source": [
        "train_loader = torch.utils.data.DataLoader(train_data_records,batch_size = 64,shuffle=True, num_workers=1)\n",
        "val_loader = torch.utils.data.DataLoader(val_data_records,batch_size = 64,shuffle=True,num_workers=1)\n",
        "model_autoencoder_v3 = AutoEncoder()\n",
        "\n",
        "train(model_autoencoder_v3, train_loader, val_loader, num_epochs=121)"
      ],
      "metadata": {
        "id": "0ipghPxNuFjL"
      },
      "execution_count": null,
      "outputs": []
    },
    {
      "cell_type": "markdown",
      "source": [
        "Attempt Model # 4:\n",
        "Increase the learning rate to 0.01, decrease the batch_size to 16 since attempt 3 did not work as intended.\n",
        "\n",
        "Hyperparameters used:\n",
        "\n",
        "*   Learning Rate = 0.01\n",
        "*   Batch Size = 16\n",
        "*   Num_epochs = 121\n",
        "*  original number of layers in the autoencoder/ decoder\n",
        "\n",
        "\n",
        "Effect after running the code:\n",
        "It had a worse effect. Learning rate was faster and the batch size even smaller.\n",
        "\n",
        "At epoch 94: |Train loss: 0.029306911649265594 |Validation loss : 0.14608078314350886 |, Train Accuracy: 0.5127430006511022, |Validation Accuracy: 0.5149016203703703 which was worse than all the previous models.\n",
        "\n",
        "\n",
        "\n",
        "\n"
      ],
      "metadata": {
        "id": "NYqwzL002SDX"
      }
    },
    {
      "cell_type": "code",
      "source": [
        "train_loader = torch.utils.data.DataLoader(train_data_records,batch_size = 16,shuffle=True, num_workers=1)\n",
        "val_loader = torch.utils.data.DataLoader(val_data_records,batch_size = 16,shuffle=True,num_workers=1)\n",
        "model_autoencoder_v4 = AutoEncoder()\n",
        "\n",
        "train(model_autoencoder_v4, train_loader, val_loader, learning_rate = 0.01, num_epochs=121)"
      ],
      "metadata": {
        "id": "NOpBEKRTudoq"
      },
      "execution_count": null,
      "outputs": []
    },
    {
      "cell_type": "markdown",
      "source": [
        "Attempt Model # 5:\n",
        "Keep the learning rate at 0.002, decrease the batch_size to 16.\n",
        "\n",
        "\n",
        "*   Learning Rate = 0.002\n",
        "*   Batch Size = 16\n",
        "*   Num_epochs = 121\n",
        "*  original number of layers in the autoencoder/ decoder\n",
        "\n",
        "\n",
        "Effect after running the code:\n",
        "\n",
        "The Validation accuracy and training accuracy were both about 67%. This meant that more epochs were required further and for several epochs the graph stayed at 67%. There wasn't much improvement in this new model in attempt to increase the accuracy.\n",
        "\n",
        "\n",
        "\n",
        "\n"
      ],
      "metadata": {
        "id": "TWPgtaMBosfk"
      }
    },
    {
      "cell_type": "code",
      "source": [
        "train_loader = torch.utils.data.DataLoader(train_data_records,batch_size = 16,shuffle=True, num_workers=1)\n",
        "val_loader = torch.utils.data.DataLoader(val_data_records,batch_size = 16,shuffle=True,num_workers=1)\n",
        "model_autoencoder_v5 = AutoEncoder()\n",
        "\n",
        "train(model_autoencoder_v5, train_loader, val_loader, learning_rate = 0.002, num_epochs=121)"
      ],
      "metadata": {
        "id": "I63TO1iCSVX0"
      },
      "execution_count": null,
      "outputs": []
    },
    {
      "cell_type": "markdown",
      "source": [
        "Attempt Model # 6:\n",
        "Keep the learning rate at 0.001 (from the model 2), increase the batch_size to 512 (so that the training is faster), increase_number of epochs\n",
        "\n",
        "\n",
        "*   Learning Rate = 0.001\n",
        "*   Batch Size = 512\n",
        "*   Num_epochs = 500\n",
        "*  original number of layers in the autoencoder/ decoder\n",
        "\n",
        "\n",
        "Effect after running the code:\n",
        "Accuracy plateaued after certain epochs\n",
        "Final Training Accuracy: 0.6562412798809413\n",
        "Final Validation Accuracy: 0.6527416087962963\n",
        "Final Training Loss: 0.011520877136804518\n",
        "Final Validation Loss: 0.0021060133565282612\n",
        "\n",
        "\n",
        "\n"
      ],
      "metadata": {
        "id": "UyC7C9TqSE8K"
      }
    },
    {
      "cell_type": "code",
      "source": [
        "train_loader = torch.utils.data.DataLoader(train_data_records,batch_size = 512,shuffle=True, num_workers=1)\n",
        "val_loader = torch.utils.data.DataLoader(val_data_records,batch_size = 512,shuffle=True,num_workers=1)\n",
        "model_autoencoder_v5 = AutoEncoder()\n",
        "\n",
        "train(model_autoencoder_v5, train_loader, val_loader, learning_rate = 0.001, num_epochs=500)"
      ],
      "metadata": {
        "id": "_i9OJFrlurKH"
      },
      "execution_count": null,
      "outputs": []
    },
    {
      "cell_type": "markdown",
      "metadata": {
        "id": "ymCsZH291prI"
      },
      "source": [
        "## Part 4. Testing [12 pt]\n",
        "\n",
        "### Part (a) [2 pt]\n",
        "\n",
        "Compute and report the test accuracy."
      ]
    },
    {
      "cell_type": "code",
      "execution_count": null,
      "metadata": {
        "id": "0OkSbup91prJ",
        "jupyter": {
          "outputs_hidden": true
        },
        "colab": {
          "base_uri": "https://localhost:8080/"
        },
        "outputId": "fc9ab37a-29d4-4dd7-a6e7-b0ab84f322c5"
      },
      "outputs": [
        {
          "output_type": "stream",
          "name": "stdout",
          "text": [
            "The test accuracy for the model chosen is:  71.36140046296296  %\n"
          ]
        }
      ],
      "source": [
        "test_loader = torch.utils.data.DataLoader(test_data_records,batch_size = 32,shuffle=True, num_workers=1)\n",
        "# the model that is used is the model that performed the best with its corresponding batch_size for the test_loader\n",
        "#model attempt 2 was chosen\n",
        "print(\"The test accuracy for the model chosen is: \", get_accuracy(model_autoencoder_v2, test_loader)*100, \" %\")"
      ]
    },
    {
      "cell_type": "markdown",
      "metadata": {
        "id": "UEe9yt6L1prM"
      },
      "source": [
        "### Part (b) [4 pt]\n",
        "\n",
        "Based on the test accuracy alone, it is difficult to assess whether our model\n",
        "is actually performing well. We don't know whether a high accuracy is due to\n",
        "the simplicity of the problem, or if a poor accuracy is a result of the inherent\n",
        "difficulty of the problem.\n",
        "\n",
        "It is therefore very important to be able to compare our model to at least one\n",
        "alternative. In particular, we consider a simple **baseline**\n",
        "model that is not very computationally expensive. Our neural network\n",
        "should at least outperform this baseline model. If our network is not much\n",
        "better than the baseline, then it is not doing well.\n",
        "\n",
        "For our data imputation problem, consider the following baseline model:\n",
        "to predict a missing feature, the baseline model will look at the **most common value** of the feature in the training set.\n",
        "\n",
        "For example, if the feature \"marriage\" is missing, then this model's prediction will be the most common value for \"marriage\" in the training set, which happens to be \"Married-civ-spouse\".\n",
        "\n",
        "What would be the test accuracy of this baseline model?\n"
      ]
    },
    {
      "cell_type": "code",
      "execution_count": null,
      "metadata": {
        "id": "p45VHp011prN",
        "jupyter": {
          "outputs_hidden": true
        },
        "colab": {
          "base_uri": "https://localhost:8080/"
        },
        "outputId": "ee5b754b-743f-45fb-95f4-532b5770dfb1"
      },
      "outputs": [
        {
          "output_type": "stream",
          "name": "stdout",
          "text": [
            "{'age': 0.2602739726027397, 'yredu': 0.5333333333333333, 'capgain': 0.0, 'caploss': 0.0, 'workhr': 0.3979591836734694, 'work': ' Private', 'marriage': ' Married-civ-spouse', 'occupation': ' Prof-specialty', 'edu': ' HS-grad', 'relationship': ' Husband', 'sex': ' Male'}\n"
          ]
        }
      ],
      "source": [
        "'''\n",
        "Thought process:\n",
        "\n",
        "test_accuracy ==>need test data frame in terms of words (and not 0s and 1s ) OR get 0s and 1s for each category and convert to words (not efficient please see green comments)\n",
        "max_val_row = math.floor(val_percent*total_records)\n",
        "test_data_records = datanp[max_val_row: total_records]\n",
        "where\n",
        "datanp = data.values.astype(np.float32)\n",
        "data = pd.get_dummies(df_not_missing) # has column names on the top\n",
        "\n",
        "All Cat Index {'work': 5, 'marriage': 12, 'occupation': 19, 'edu': 33, 'relationship': 49, 'sex': 55}\n",
        "All Cat values {'work': ['Federal-gov', 'Local-gov', 'Private', 'Self-emp-inc', 'Self-emp-not-inc', 'State-gov', 'Without-pay'], 'marriage': ['Divorced', 'Married-AF-spouse', 'Married-civ-spouse', 'Married-spouse-absent', 'Never-married', 'Separated', 'Widowed'], 'occupation': ['Adm-clerical', 'Armed-Forces', 'Craft-repair', 'Exec-managerial', 'Farming-fishing', 'Handlers-cleaners', 'Machine-op-inspct', 'Other-service', 'Priv-house-serv', 'Prof-specialty', 'Protective-serv', 'Sales', 'Tech-support', 'Transport-moving'], 'edu': ['10th', '11th', '12th', '1st-4th', '5th-6th', '7th-8th', '9th', 'Assoc-acdm', 'Assoc-voc', 'Bachelors', 'Doctorate', 'HS-grad', 'Masters', 'Preschool', 'Prof-school', 'Some-college'], 'relationship': ['Husband', 'Not-in-family', 'Other-relative', 'Own-child', 'Unmarried', 'Wife'], 'sex': ['Female', 'Male']}\n",
        "cat_index = {}  # Mapping of feature -> start index of feature in a record\n",
        "cat_values = {} # Mapping of feature -> list of categorical values the feature can take\n",
        "'''\n",
        "# go row wise and store the most common feature for each column/feature -->inefficient way\n",
        "# can use pre-built functions for pandas\n",
        "# thus, use df_not_missing instead\n",
        "\n",
        "# feature = column\n",
        "most_common_value = {} # create a dictionary so that indicies can be strings or features\n",
        "for feature in df_not_missing:\n",
        "  #find how mnay times each value within the feature happens\n",
        "  #print(feature)\n",
        "  #print(df_not_missing[feature].value_counts())\n",
        "  all_values_in_each_feature_occurance = df_not_missing[feature].value_counts()\n",
        "\n",
        "  # value_counts gives what are the output values and the how many times each output occurs\n",
        "  # for yredu 0.533333 occurs 9968\n",
        "  # .max returns the maximum frequency eg 9968\n",
        "  #print(df_not_missing[feature].value_counts().max())\n",
        "  # to get index , can use idxmax\n",
        "  most_common_value[feature] = all_values_in_each_feature_occurance.idxmax()\n",
        "\n",
        "\n",
        "print(most_common_value)"
      ]
    },
    {
      "cell_type": "code",
      "source": [
        "accuracy_per_feature = []\n",
        "count = 0\n",
        "for feature in df_not_missing:\n",
        "\n",
        "  missing_feature_equals_common_pred = (most_common_value[feature] == df_not_missing[feature])\n",
        "  total_number_match = df_not_missing[missing_feature_equals_common_pred].count()\n",
        "  total_rows_records = df_not_missing.shape[0]\n",
        "  accuracy_per_feature.append(total_number_match/total_rows_records)\n",
        "\n",
        "# in the dictionary, sum of all the values\n",
        "#note that accuracy_per_feature has index 0 to len(features) where index i can be found using cat index\n",
        "total_accuracy = sum(accuracy_per_feature)/len(accuracy_per_feature)\n",
        "\n",
        "print(\"The Accuracy of the Baseline model is \", total_accuracy[0]*100, \" %\")\n",
        "# the reason why total_accuracy[0] is because total_accuracy gave an array with the same number\n"
      ],
      "metadata": {
        "colab": {
          "base_uri": "https://localhost:8080/"
        },
        "id": "UBKubO9SA_30",
        "outputId": "d1f6ce33-8094-4798-e3b5-0bf15bc1bcb1"
      },
      "execution_count": null,
      "outputs": [
        {
          "output_type": "stream",
          "name": "stdout",
          "text": [
            "The Accuracy of the Baseline model is  49.538322215579846  %\n"
          ]
        }
      ]
    },
    {
      "cell_type": "markdown",
      "metadata": {
        "id": "QlHu0wxh1prP"
      },
      "source": [
        "### Part (c) [1 pt]\n",
        "\n",
        "How does your test accuracy from part (a) compared to your basline test accuracy in part (b)?"
      ]
    },
    {
      "cell_type": "markdown",
      "source": [
        "_________________\n",
        "The test accuracy for the baseline model is 49.5% and using the autoencoder the accuracy is 71.4% . The autoencoder model performs better than the baseline model."
      ],
      "metadata": {
        "id": "WvGWMX9oTktz"
      }
    },
    {
      "cell_type": "markdown",
      "metadata": {
        "id": "DfQPgu1Q1prS"
      },
      "source": [
        "### Part (d) [1 pt]\n",
        "\n",
        "Look at the first item in your test data.\n",
        "Do you think it is reasonable for a human\n",
        "to be able to guess this person's education level\n",
        "based on their other features? Explain."
      ]
    },
    {
      "cell_type": "code",
      "execution_count": null,
      "metadata": {
        "id": "3qbQ1vvT1prT",
        "jupyter": {
          "outputs_hidden": true
        },
        "colab": {
          "base_uri": "https://localhost:8080/"
        },
        "outputId": "afde5a9d-3613-4e94-9e88-b63d17f30e5f"
      },
      "outputs": [
        {
          "output_type": "stream",
          "name": "stdout",
          "text": [
            "Test reocrds [0.369863  0.8       0.        0.        0.4489796 0.        0.\n",
            " 1.        0.        0.        0.        0.        0.        0.\n",
            " 0.        0.        1.        0.        0.        0.        0.\n",
            " 0.        0.        0.        0.        0.        0.        0.\n",
            " 1.        0.        0.        0.        0.        0.        0.\n",
            " 0.        0.        0.        0.        0.        0.        0.\n",
            " 1.        0.        0.        0.        0.        0.        0.\n",
            " 0.        1.        0.        0.        0.        0.        1.\n",
            " 0.       ]\n",
            "\n",
            "Test reocrds get features {'work': 'Private', 'marriage': 'Never-married', 'occupation': 'Prof-specialty', 'edu': 'Bachelors', 'relationship': 'Not-in-family', 'sex': 'Female'}\n"
          ]
        }
      ],
      "source": [
        "print(\"Test reocrds\",  test_data_records[0])\n",
        "# the first row\n",
        "print()\n",
        "print(\"Test reocrds get features\",  get_features(test_data_records[0]))\n"
      ]
    },
    {
      "cell_type": "markdown",
      "source": [
        "______________\n",
        "\n",
        "Given the occupation or work, the education level may be guessed.\n",
        "However, the guess may not be accurate representation without more information; and the accuracy of guesses made by humans would be very low due to assumptions and bias.\n",
        "Thus, I believe it is not reasonable for a human to be able to predict the person's eduction level based on these features.\n"
      ],
      "metadata": {
        "id": "oSYQKApUeece"
      }
    },
    {
      "cell_type": "markdown",
      "metadata": {
        "id": "p_d5uuAY1prZ"
      },
      "source": [
        "### Part (e) [2 pt]\n",
        "\n",
        "What is your model's prediction of this person's education\n",
        "level, given their other features?\n"
      ]
    },
    {
      "cell_type": "code",
      "execution_count": null,
      "metadata": {
        "id": "kBY5gKXR1pra",
        "jupyter": {
          "outputs_hidden": true
        },
        "colab": {
          "base_uri": "https://localhost:8080/"
        },
        "outputId": "d410978e-4f44-4040-889d-18e1d9ec2f71"
      },
      "outputs": [
        {
          "output_type": "stream",
          "name": "stdout",
          "text": [
            "Output model Predict: tensor([2.6436e-01, 7.9101e-01, 5.6694e-16, 5.0091e-03, 4.2820e-01, 2.4531e-12,\n",
            "        1.8831e-16, 9.8758e-01, 7.5880e-09, 1.3954e-04, 5.3931e-05, 8.4797e-27,\n",
            "        2.5467e-03, 5.0160e-27, 4.6311e-11, 5.3539e-12, 9.9864e-01, 4.3867e-12,\n",
            "        1.2728e-09, 1.5230e-02, 3.0180e-19, 5.7394e-05, 4.4152e-04, 5.2291e-04,\n",
            "        4.2463e-06, 5.4011e-04, 3.2552e-06, 4.9674e-03, 9.6886e-01, 1.5193e-05,\n",
            "        1.1541e-03, 9.3054e-04, 3.6058e-11, 5.1445e-17, 6.3492e-07, 2.8801e-11,\n",
            "        5.8935e-14, 2.0940e-26, 3.8006e-25, 0.0000e+00, 4.6512e-06, 1.8348e-02,\n",
            "        6.7042e-01, 3.4754e-08, 0.0000e+00, 4.3646e-01, 1.3426e-09, 2.0035e-02,\n",
            "        4.4928e-12, 2.0537e-26, 9.9767e-01, 1.1539e-04, 4.2566e-04, 2.1134e-03,\n",
            "        1.3951e-32, 9.8703e-01, 1.4394e-02], grad_fn=<SigmoidBackward0>)\n",
            "Type:  <class 'torch.Tensor'>\n",
            "Numpy Format OutPutModel Predict: [2.6436004e-01 7.9100627e-01 5.6694255e-16 5.0091292e-03 4.2819995e-01\n",
            " 2.4530608e-12 1.8830990e-16 9.8758137e-01 7.5880040e-09 1.3954223e-04\n",
            " 5.3931104e-05 8.4797224e-27 2.5467093e-03 5.0159879e-27 4.6311385e-11\n",
            " 5.3538606e-12 9.9864286e-01 4.3866538e-12 1.2728394e-09 1.5229866e-02\n",
            " 3.0179617e-19 5.7393674e-05 4.4152368e-04 5.2290648e-04 4.2462962e-06\n",
            " 5.4011453e-04 3.2551616e-06 4.9674464e-03 9.6885991e-01 1.5193243e-05\n",
            " 1.1541273e-03 9.3054480e-04 3.6058469e-11 5.1444741e-17 6.3491541e-07\n",
            " 2.8801281e-11 5.8935448e-14 2.0940493e-26 3.8006108e-25 0.0000000e+00\n",
            " 4.6511568e-06 1.8347880e-02 6.7042261e-01 3.4754283e-08 0.0000000e+00\n",
            " 4.3645662e-01 1.3426209e-09 2.0035449e-02 4.4927794e-12 2.0536562e-26\n",
            " 9.9767178e-01 1.1538887e-04 4.2566480e-04 2.1134475e-03 1.3951036e-32\n",
            " 9.8702896e-01 1.4394108e-02]\n",
            "\n",
            "\n",
            "Results: \n",
            "\n",
            "The feature that was missing should be:  Bachelors\n"
          ]
        }
      ],
      "source": [
        "#First remove the edu feature from the the dataset before passing to model to see if model can predict,\n",
        "# zero_out_features returns records\n",
        "modified_test_records = zero_out_feature(test_data_records[0:1], \"edu\")\n",
        "\n",
        "# pass in tensor to model\n",
        "modified_test_torch = torch.tensor(modified_test_records[0])\n",
        "\n",
        "output_model_prediction = model_autoencoder_v2(modified_test_torch)\n",
        "print(\"Output model Predict:\", output_model_prediction)\n",
        "print(\"Type: \", type(output_model_prediction))\n",
        "numpy_output_model_prediction = output_model_prediction.detach().numpy()\n",
        "\n",
        "# detach.numpy is needed because the computational graph of tensor must be removed via detach. the computational graph comes with tensor\n",
        "\n",
        "print(\"Numpy Format OutPutModel Predict:\", numpy_output_model_prediction)\n",
        "print(\"\\n\\nResults: \\n\")\n",
        "# get_feature takes input record or a numpy array and feature\n",
        "print(\"The feature that was missing should be: \", get_feature(numpy_output_model_prediction, \"edu\"))\n"
      ]
    },
    {
      "cell_type": "markdown",
      "source": [
        "_______________________\n",
        "The Autoencoder correctly predicts the education level"
      ],
      "metadata": {
        "id": "nqaMzWTngKFu"
      }
    },
    {
      "cell_type": "markdown",
      "metadata": {
        "id": "fdLNA0ce1prd"
      },
      "source": [
        "### Part (f) [2 pt]\n",
        "\n",
        "What is the baseline model's prediction\n",
        "of this person's education level?"
      ]
    },
    {
      "cell_type": "code",
      "execution_count": null,
      "metadata": {
        "id": "TXgoM9qk1prd",
        "jupyter": {
          "outputs_hidden": true
        },
        "colab": {
          "base_uri": "https://localhost:8080/"
        },
        "outputId": "8c80a34e-94b7-4527-aacc-f7aff0262677"
      },
      "outputs": [
        {
          "output_type": "stream",
          "name": "stdout",
          "text": [
            "Baseline Model prediction:   HS-grad\n"
          ]
        }
      ],
      "source": [
        "#Since basline model is most_common_value, it is a dictionary and can be accessed by inputting the keys to get its values\n",
        "print(\"Baseline Model prediction: \", most_common_value[\"edu\"])"
      ]
    },
    {
      "cell_type": "markdown",
      "source": [
        "___________\n",
        "The baseline model is unable to predict the education level effectively because of the data it is provided. The data contains frequently High School graduates; thus, the baseline is more likely to classify the education level as HS graduate.\n",
        "The baseline model is highly dependent on the dataset values collected."
      ],
      "metadata": {
        "id": "r1Zfv64CgP_s"
      }
    }
  ],
  "metadata": {
    "colab": {
      "collapsed_sections": [
        "HwjDg1uM1pqe",
        "OEJ0Ci3l1pqh",
        "1_5ZZR_J1pqy",
        "WKk01pwx1pq_",
        "SxCTlXoV1prB",
        "h9xTwIf51prF",
        "UEe9yt6L1prM",
        "QlHu0wxh1prP",
        "DfQPgu1Q1prS",
        "p_d5uuAY1prZ",
        "fdLNA0ce1prd"
      ],
      "provenance": []
    },
    "kernelspec": {
      "display_name": "Python 3 (ipykernel)",
      "language": "python",
      "name": "python3"
    },
    "language_info": {
      "codemirror_mode": {
        "name": "ipython",
        "version": 3
      },
      "file_extension": ".py",
      "mimetype": "text/x-python",
      "name": "python",
      "nbconvert_exporter": "python",
      "pygments_lexer": "ipython3",
      "version": "3.9.4"
    }
  },
  "nbformat": 4,
  "nbformat_minor": 0
}